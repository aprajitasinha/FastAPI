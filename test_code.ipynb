{
 "cells": [
  {
   "cell_type": "code",
   "execution_count": 18,
   "metadata": {},
   "outputs": [
    {
     "name": "stdout",
     "output_type": "stream",
     "text": [
      "    Name  Age      City\n",
      "0   John   28  New York\n",
      "1   Anna   24     Paris\n",
      "2  Peter   35    Berlin\n",
      "[{\"Name\":\"John\",\"Age\":28,\"City\":\"New York\"},{\"Name\":\"Anna\",\"Age\":24,\"City\":\"Paris\"},{\"Name\":\"Peter\",\"Age\":35,\"City\":\"Berlin\"}]\n"
     ]
    }
   ],
   "source": [
    "import pandas as pd\n",
    "\n",
    "data={'Name': ['John', 'Anna', 'Peter'],'Age': [28, 24, 35],'City': ['New York', 'Paris', 'Berlin']}\n",
    "df=pd.DataFrame(data)\n",
    "print(df)\n",
    "json_data=df.to_json(orient='records')\n",
    "print(json_data)"
   ]
  },
  {
   "cell_type": "code",
   "execution_count": 1,
   "metadata": {},
   "outputs": [
    {
     "name": "stdout",
     "output_type": "stream",
     "text": [
      "frozenset({1, 2, 3, 4})\n",
      "frozenset({1, 2, 3, 4, 5})\n",
      "frozenset({3, 4})\n"
     ]
    }
   ],
   "source": [
    "fs = frozenset([1, 2, 3, 4])\n",
    "print(fs)\n",
    "# Set operations\n",
    "fs2 = frozenset([3, 4, 5])\n",
    "print(fs.union(fs2))       # Output: frozenset({1, 2, 3, 4, 5})\n",
    "print(fs.intersection(fs2))# Output: frozenset({3, 4})\n",
    "\n",
    "# Trying to modify it (will raise an error)\n",
    "# fs.add(6) "
   ]
  },
  {
   "cell_type": "code",
   "execution_count": 3,
   "metadata": {},
   "outputs": [
    {
     "name": "stdout",
     "output_type": "stream",
     "text": [
      "frozenset({'Geeks', 'for'})\n"
     ]
    }
   ],
   "source": [
    "l = [\"Geeks\", \"for\", \"Geeks\"]\n",
    "frozenset_l=frozenset(l)\n",
    "print(frozenset_l)"
   ]
  },
  {
   "cell_type": "code",
   "execution_count": 10,
   "metadata": {},
   "outputs": [
    {
     "name": "stdout",
     "output_type": "stream",
     "text": [
      "1\n",
      "2\n",
      "3\n"
     ]
    }
   ],
   "source": [
    "def count_up_to(n):\n",
    "    i = 1\n",
    "    while i <= n:\n",
    "        yield i\n",
    "        i += 1\n",
    "\n",
    "gen = count_up_to(3)\n",
    "print(next(gen)) \n",
    "print(next(gen))\n",
    "print(next(gen))\n",
    "\n"
   ]
  },
  {
   "cell_type": "code",
   "execution_count": 17,
   "metadata": {},
   "outputs": [
    {
     "name": "stdout",
     "output_type": "stream",
     "text": [
      "500\n"
     ]
    }
   ],
   "source": [
    "\n",
    "gen = count_up_to(1000)\n",
    "\n",
    "mid_value = None\n",
    "for i, val in enumerate(gen, start=1):\n",
    "    if i == 500:\n",
    "        mid_value = val\n",
    "        break\n",
    "\n",
    "print(mid_value)  # Output: 500\n",
    "\n",
    "def count_up_to(n):\n",
    "    i = 1\n",
    "    while i <= n:\n",
    "        yield i      # 👈 This is where `yield` is used\n",
    "        i += 1\n"
   ]
  }
 ],
 "metadata": {
  "kernelspec": {
   "display_name": "python-3.9.16-virtual",
   "language": "python",
   "name": "python3"
  },
  "language_info": {
   "codemirror_mode": {
    "name": "ipython",
    "version": 3
   },
   "file_extension": ".py",
   "mimetype": "text/x-python",
   "name": "python",
   "nbconvert_exporter": "python",
   "pygments_lexer": "ipython3",
   "version": "3.9.16"
  },
  "orig_nbformat": 4
 },
 "nbformat": 4,
 "nbformat_minor": 2
}

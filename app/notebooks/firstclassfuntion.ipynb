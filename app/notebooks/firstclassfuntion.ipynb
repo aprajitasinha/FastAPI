{
 "cells": [
  {
   "cell_type": "code",
   "execution_count": 3,
   "metadata": {},
   "outputs": [],
   "source": [
    "##first class funtcion is a concept where funtion are treated as a first class citizens \n",
    "\n",
    "# they can be passed as an arguments\n",
    "# they can be assigned to a variable\n",
    "# funtion can return other function\n"
   ]
  },
  {
   "cell_type": "code",
   "execution_count": 5,
   "metadata": {},
   "outputs": [
    {
     "name": "stdout",
     "output_type": "stream",
     "text": [
      "('Hello', {'al'})\n"
     ]
    }
   ],
   "source": [
    "#passed as an argument\n",
    "def msg(name):\n",
    "    return f\"Hello\",{name}\n",
    "\n",
    "def func1(fun2,name):\n",
    "    return fun2(name)\n",
    "\n",
    "print(func1(msg,\"al\"))   \n"
   ]
  },
  {
   "cell_type": "code",
   "execution_count": 7,
   "metadata": {},
   "outputs": [
    {
     "name": "stdout",
     "output_type": "stream",
     "text": [
      "('Hello', {'Alish'})\n"
     ]
    }
   ],
   "source": [
    "#assigned to a vraible\n",
    "def msg(name):\n",
    "    return f\"Hello\",{name}\n",
    "\n",
    "f=msg\n",
    "print(f(\"Alish\"))"
   ]
  },
  {
   "cell_type": "code",
   "execution_count": 9,
   "metadata": {},
   "outputs": [
    {
     "name": "stdout",
     "output_type": "stream",
     "text": [
      "Alish\n"
     ]
    }
   ],
   "source": [
    "#returning function  from another function\n",
    "def fun(msg):\n",
    "    def func2():\n",
    "        return msg\n",
    "    return func2\n",
    "\n",
    "func=(fun(\"Alish\"))\n",
    "print(func())\n"
   ]
  }
 ],
 "metadata": {
  "kernelspec": {
   "display_name": "Django_Virtual",
   "language": "python",
   "name": "python3"
  },
  "language_info": {
   "codemirror_mode": {
    "name": "ipython",
    "version": 3
   },
   "file_extension": ".py",
   "mimetype": "text/x-python",
   "name": "python",
   "nbconvert_exporter": "python",
   "pygments_lexer": "ipython3",
   "version": "3.9.16"
  },
  "orig_nbformat": 4
 },
 "nbformat": 4,
 "nbformat_minor": 2
}

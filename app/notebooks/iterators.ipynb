{
 "cells": [
  {
   "cell_type": "code",
   "execution_count": 1,
   "metadata": {},
   "outputs": [],
   "source": [
    "##iterartors is an objects that traverse the elemects of the colllection (like set, tuple,list)one by one.\n",
    "\n",
    "\n",
    "#__iter__(): This method initializes the iterator and returns the iterator object itself.\n",
    "#__next__(): This method returns the next value in the sequence. If there are no more items, it raises a StopIteration exception to signal the end of the iteration.\n",
    "\n"
   ]
  },
  {
   "cell_type": "code",
   "execution_count": 4,
   "metadata": {},
   "outputs": [
    {
     "name": "stdout",
     "output_type": "stream",
     "text": [
      "g\n",
      "f\n"
     ]
    }
   ],
   "source": [
    "s=\"gfg\"\n",
    "it=iter(s)\n",
    "\n",
    "print(next(it))\n",
    "print(next(it))"
   ]
  }
 ],
 "metadata": {
  "kernelspec": {
   "display_name": "Django_Virtual",
   "language": "python",
   "name": "python3"
  },
  "language_info": {
   "codemirror_mode": {
    "name": "ipython",
    "version": 3
   },
   "file_extension": ".py",
   "mimetype": "text/x-python",
   "name": "python",
   "nbconvert_exporter": "python",
   "pygments_lexer": "ipython3",
   "version": "3.9.16"
  },
  "orig_nbformat": 4
 },
 "nbformat": 4,
 "nbformat_minor": 2
}

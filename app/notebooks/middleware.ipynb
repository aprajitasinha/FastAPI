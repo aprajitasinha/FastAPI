{
 "cells": [
  {
   "cell_type": "code",
   "execution_count": 1,
   "metadata": {},
   "outputs": [],
   "source": [
    "#middleware is a funtion that works with every request before it is processed by any \n",
    "# specific path operation and with every response before returning it.\n",
    "\n",
    "\n",
    "#uses \n",
    "#Authentication and authorization\n",
    "#logging\n",
    "# request /Response transformation\n",
    "#exception handling\n",
    "\n",
    "\n",
    "\n",
    "#dispacth : receives incoming https request \n",
    "#call_next in FastAPI middleware is used to pass the request to the next middleware or the actual route handler, and get the response back.\n"
   ]
  },
  {
   "cell_type": "code",
   "execution_count": null,
   "metadata": {},
   "outputs": [],
   "source": [
    "#Client Request → Middleware (Before) → call_next(request) → Route Handler → Middleware (After) → Response to Client\n",
    "import app\n",
    "\n",
    "@app.middleware(\"http\")\n",
    "async def add_process_time_header(request: Request, call_next):\n",
    "    start_time = time.perf_counter()\n",
    "    response = await call_next(request)\n",
    "    process_time = time.perf_counter() - start_time\n",
    "    response.headers[\"X-Process-Time\"] = str(process_time)\n",
    "    return response"
   ]
  }
 ],
 "metadata": {
  "kernelspec": {
   "display_name": "Django_Virtual",
   "language": "python",
   "name": "python3"
  },
  "language_info": {
   "codemirror_mode": {
    "name": "ipython",
    "version": 3
   },
   "file_extension": ".py",
   "mimetype": "text/x-python",
   "name": "python",
   "nbconvert_exporter": "python",
   "pygments_lexer": "ipython3",
   "version": "3.9.16"
  },
  "orig_nbformat": 4
 },
 "nbformat": 4,
 "nbformat_minor": 2
}

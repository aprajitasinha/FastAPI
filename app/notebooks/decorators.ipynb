{
 "cells": [
  {
   "cell_type": "code",
   "execution_count": 1,
   "metadata": {},
   "outputs": [],
   "source": [
    "##decorators are way  to  modify  a class or funtion  .\n",
    "#They are often used for adding functionality like logging, access control, or instrumentation to existing code"
   ]
  },
  {
   "cell_type": "code",
   "execution_count": 6,
   "metadata": {},
   "outputs": [
    {
     "name": "stdout",
     "output_type": "stream",
     "text": [
      "befor calling decorators\n",
      "Good Morning\n",
      "after calling funtion\n"
     ]
    }
   ],
   "source": [
    "#function based decorators\n",
    "def decorator_function(func):\n",
    "    def wrapper():\n",
    "        print (\"befor calling decorators\")\n",
    "        func()\n",
    "        print(\"after calling funtion\")\n",
    "    return wrapper\n",
    "\n",
    "@decorator_function\n",
    "def greeting():\n",
    "    print(\"Good Morning\")\n",
    "\n",
    "greeting()\n"
   ]
  },
  {
   "cell_type": "code",
   "execution_count": 8,
   "metadata": {},
   "outputs": [
    {
     "name": "stdout",
     "output_type": "stream",
     "text": [
      "befor calling funcrion\n",
      "sum is 30\n",
      "after calling function\n"
     ]
    }
   ],
   "source": [
    "def decorator_func(func):\n",
    "    def wrapper(*args,**kwargs):\n",
    "        print(\"befor calling funcrion\")\n",
    "        func(*args,**kwargs)\n",
    "        print(\"after calling function\")\n",
    "    return wrapper\n",
    "\n",
    "@decorator_func\n",
    "def sum(a,b):\n",
    "    print(\"sum is\",a+b)\n",
    "   \n",
    "sum(10,20) "
   ]
  },
  {
   "cell_type": "code",
   "execution_count": 10,
   "metadata": {},
   "outputs": [
    {
     "name": "stdout",
     "output_type": "stream",
     "text": [
      "before calling function\n",
      "Good Morning\n",
      "after calling function\n"
     ]
    }
   ],
   "source": [
    "##class based decorators\n",
    "from typing import Any\n",
    "\n",
    "\n",
    "class Decorators:\n",
    "    def __init__(self,func) :\n",
    "        self.func= func\n",
    "    \n",
    "    def __call__(self, *args: Any, **kwds):\n",
    "        print(\"before calling function\")\n",
    "        self.func(*args, **kwds)\n",
    "        print(\"after calling function\") \n",
    "        \n",
    "@Decorators\n",
    "def greeting():\n",
    "    print(\"Good Morning\")\n",
    "greeting()"
   ]
  }
 ],
 "metadata": {
  "kernelspec": {
   "display_name": "Django_Virtual",
   "language": "python",
   "name": "python3"
  },
  "language_info": {
   "codemirror_mode": {
    "name": "ipython",
    "version": 3
   },
   "file_extension": ".py",
   "mimetype": "text/x-python",
   "name": "python",
   "nbconvert_exporter": "python",
   "pygments_lexer": "ipython3",
   "version": "3.9.16"
  },
  "orig_nbformat": 4
 },
 "nbformat": 4,
 "nbformat_minor": 2
}

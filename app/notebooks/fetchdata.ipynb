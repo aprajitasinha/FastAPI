{
 "cells": [
  {
   "cell_type": "code",
   "execution_count": 3,
   "metadata": {},
   "outputs": [],
   "source": [
    "import pandas as pd\n",
    "import psycopg2\n"
   ]
  },
  {
   "cell_type": "code",
   "execution_count": 4,
   "metadata": {},
   "outputs": [],
   "source": [
    "def get_connection():\n",
    "    conn=psycopg2.connect(database=\"stockanalysis\",\n",
    "        user='aryanpatel',\n",
    "        password=\"12345\",\n",
    "        host=\"localhost\",\n",
    "        port=\"5432\")\n",
    "    return conn\n"
   ]
  },
  {
   "cell_type": "code",
   "execution_count": 6,
   "metadata": {},
   "outputs": [
    {
     "name": "stdout",
     "output_type": "stream",
     "text": [
      "   id    open    high     low   close    volume   epochtime\n",
      "0   1  548.95  548.95  546.00  546.65   30673.0  1737949500\n",
      "1   2  546.35  546.60  545.00  545.50   54783.0  1737949560\n",
      "2   3  544.90  545.30  544.60  545.10   98434.0  1737949620\n",
      "3   4  545.15  546.55  545.15  546.35  105281.0  1737949680\n",
      "4   5  545.80  547.20  545.80  546.50  118454.0  1737949740\n",
      "5   6  546.65  546.75  545.65  546.35  125151.0  1737949800\n",
      "6   7  546.40  546.40  545.45  545.85  131785.0  1737949860\n",
      "7   8  546.10  547.35  546.00  546.85  136827.0  1737949920\n",
      "8   9  546.70  547.30  545.95  545.95  143057.0  1737949980\n",
      "9  10  545.85  546.00  545.35  545.80  155606.0  1737950040\n"
     ]
    }
   ],
   "source": [
    "def read_data():\n",
    "    conn=get_connection()\n",
    "    try:\n",
    "        query = 'SELECT * FROM \"UPL\".\"candle_1m\";'\n",
    "        with conn.cursor() as cur:\n",
    "            cur.execute(query)\n",
    "            rows=cur.fetchall()\n",
    "            coloumns=[desc[0] for desc in cur.description]\n",
    "            df=pd.DataFrame(rows,columns=coloumns)\n",
    "        return df\n",
    "    \n",
    "    except Exception as e:\n",
    "        print(\"Error while fetching data:\", e)\n",
    "        return None\n",
    "    finally:\n",
    "        conn.close()\n",
    "        \n",
    "df=read_data()\n",
    "if df is not None:\n",
    "    print(df.head(10))\n",
    "else:\n",
    "    print(\"No data\")\n"
   ]
  },
  {
   "cell_type": "code",
   "execution_count": 7,
   "metadata": {},
   "outputs": [
    {
     "data": {
      "text/plain": [
       "0        548.95\n",
       "1        546.60\n",
       "2        545.30\n",
       "3        546.55\n",
       "4        547.20\n",
       "          ...  \n",
       "23245    669.95\n",
       "23246    670.70\n",
       "23247    670.60\n",
       "23248    669.65\n",
       "23249    671.00\n",
       "Name: high, Length: 23250, dtype: float64"
      ]
     },
     "execution_count": 7,
     "metadata": {},
     "output_type": "execute_result"
    }
   ],
   "source": [
    "df['high']"
   ]
  },
  {
   "cell_type": "code",
   "execution_count": 10,
   "metadata": {},
   "outputs": [
    {
     "data": {
      "text/plain": [
       "open\n",
       "536.15    537.60\n",
       "536.55    536.80\n",
       "536.75    537.45\n",
       "536.80    537.15\n",
       "536.95    537.70\n",
       "           ...  \n",
       "687.75    689.45\n",
       "687.85    687.95\n",
       "687.95    688.70\n",
       "688.70    688.70\n",
       "690.25    690.65\n",
       "Name: high, Length: 2358, dtype: float64"
      ]
     },
     "execution_count": 10,
     "metadata": {},
     "output_type": "execute_result"
    }
   ],
   "source": [
    "df.groupby(\"open\")[\"high\"].mean()\n"
   ]
  },
  {
   "cell_type": "code",
   "execution_count": 12,
   "metadata": {},
   "outputs": [
    {
     "data": {
      "text/html": [
       "<div>\n",
       "<style scoped>\n",
       "    .dataframe tbody tr th:only-of-type {\n",
       "        vertical-align: middle;\n",
       "    }\n",
       "\n",
       "    .dataframe tbody tr th {\n",
       "        vertical-align: top;\n",
       "    }\n",
       "\n",
       "    .dataframe thead th {\n",
       "        text-align: right;\n",
       "    }\n",
       "</style>\n",
       "<table border=\"1\" class=\"dataframe\">\n",
       "  <thead>\n",
       "    <tr style=\"text-align: right;\">\n",
       "      <th></th>\n",
       "      <th>id</th>\n",
       "      <th>open</th>\n",
       "      <th>high</th>\n",
       "      <th>low</th>\n",
       "      <th>close</th>\n",
       "      <th>volume</th>\n",
       "      <th>epochtime</th>\n",
       "    </tr>\n",
       "  </thead>\n",
       "  <tbody>\n",
       "    <tr>\n",
       "      <th>count</th>\n",
       "      <td>23250.000000</td>\n",
       "      <td>23249.000000</td>\n",
       "      <td>23250.000000</td>\n",
       "      <td>23250.000000</td>\n",
       "      <td>23250.000000</td>\n",
       "      <td>2.325000e+04</td>\n",
       "      <td>2.325000e+04</td>\n",
       "    </tr>\n",
       "    <tr>\n",
       "      <th>mean</th>\n",
       "      <td>12012.612903</td>\n",
       "      <td>632.508203</td>\n",
       "      <td>632.860594</td>\n",
       "      <td>632.147908</td>\n",
       "      <td>632.509516</td>\n",
       "      <td>1.351365e+06</td>\n",
       "      <td>1.741693e+09</td>\n",
       "    </tr>\n",
       "    <tr>\n",
       "      <th>std</th>\n",
       "      <td>7870.138740</td>\n",
       "      <td>29.961309</td>\n",
       "      <td>29.945810</td>\n",
       "      <td>29.974635</td>\n",
       "      <td>29.956268</td>\n",
       "      <td>1.292983e+06</td>\n",
       "      <td>2.375203e+06</td>\n",
       "    </tr>\n",
       "    <tr>\n",
       "      <th>min</th>\n",
       "      <td>1.000000</td>\n",
       "      <td>536.150000</td>\n",
       "      <td>536.800000</td>\n",
       "      <td>536.100000</td>\n",
       "      <td>536.250000</td>\n",
       "      <td>6.901000e+03</td>\n",
       "      <td>1.737950e+09</td>\n",
       "    </tr>\n",
       "    <tr>\n",
       "      <th>25%</th>\n",
       "      <td>5813.250000</td>\n",
       "      <td>617.500000</td>\n",
       "      <td>617.900000</td>\n",
       "      <td>617.000000</td>\n",
       "      <td>617.450000</td>\n",
       "      <td>6.643285e+05</td>\n",
       "      <td>1.739516e+09</td>\n",
       "    </tr>\n",
       "    <tr>\n",
       "      <th>50%</th>\n",
       "      <td>11625.500000</td>\n",
       "      <td>636.850000</td>\n",
       "      <td>637.175000</td>\n",
       "      <td>636.550000</td>\n",
       "      <td>636.850000</td>\n",
       "      <td>1.090981e+06</td>\n",
       "      <td>1.741633e+09</td>\n",
       "    </tr>\n",
       "    <tr>\n",
       "      <th>75%</th>\n",
       "      <td>17437.750000</td>\n",
       "      <td>651.950000</td>\n",
       "      <td>652.250000</td>\n",
       "      <td>651.650000</td>\n",
       "      <td>651.950000</td>\n",
       "      <td>1.650695e+06</td>\n",
       "      <td>1.743663e+09</td>\n",
       "    </tr>\n",
       "    <tr>\n",
       "      <th>max</th>\n",
       "      <td>45751.000000</td>\n",
       "      <td>690.250000</td>\n",
       "      <td>690.650000</td>\n",
       "      <td>687.950000</td>\n",
       "      <td>689.400000</td>\n",
       "      <td>1.271226e+07</td>\n",
       "      <td>1.745921e+09</td>\n",
       "    </tr>\n",
       "  </tbody>\n",
       "</table>\n",
       "</div>"
      ],
      "text/plain": [
       "                 id          open          high           low         close  \\\n",
       "count  23250.000000  23249.000000  23250.000000  23250.000000  23250.000000   \n",
       "mean   12012.612903    632.508203    632.860594    632.147908    632.509516   \n",
       "std     7870.138740     29.961309     29.945810     29.974635     29.956268   \n",
       "min        1.000000    536.150000    536.800000    536.100000    536.250000   \n",
       "25%     5813.250000    617.500000    617.900000    617.000000    617.450000   \n",
       "50%    11625.500000    636.850000    637.175000    636.550000    636.850000   \n",
       "75%    17437.750000    651.950000    652.250000    651.650000    651.950000   \n",
       "max    45751.000000    690.250000    690.650000    687.950000    689.400000   \n",
       "\n",
       "             volume     epochtime  \n",
       "count  2.325000e+04  2.325000e+04  \n",
       "mean   1.351365e+06  1.741693e+09  \n",
       "std    1.292983e+06  2.375203e+06  \n",
       "min    6.901000e+03  1.737950e+09  \n",
       "25%    6.643285e+05  1.739516e+09  \n",
       "50%    1.090981e+06  1.741633e+09  \n",
       "75%    1.650695e+06  1.743663e+09  \n",
       "max    1.271226e+07  1.745921e+09  "
      ]
     },
     "execution_count": 12,
     "metadata": {},
     "output_type": "execute_result"
    }
   ],
   "source": [
    "df.describe()"
   ]
  },
  {
   "cell_type": "code",
   "execution_count": 13,
   "metadata": {},
   "outputs": [
    {
     "data": {
      "text/html": [
       "<div>\n",
       "<style scoped>\n",
       "    .dataframe tbody tr th:only-of-type {\n",
       "        vertical-align: middle;\n",
       "    }\n",
       "\n",
       "    .dataframe tbody tr th {\n",
       "        vertical-align: top;\n",
       "    }\n",
       "\n",
       "    .dataframe thead th {\n",
       "        text-align: right;\n",
       "    }\n",
       "</style>\n",
       "<table border=\"1\" class=\"dataframe\">\n",
       "  <thead>\n",
       "    <tr style=\"text-align: right;\">\n",
       "      <th></th>\n",
       "      <th>id</th>\n",
       "      <th>open</th>\n",
       "      <th>high</th>\n",
       "      <th>low</th>\n",
       "      <th>close</th>\n",
       "      <th>volume</th>\n",
       "      <th>epochtime</th>\n",
       "    </tr>\n",
       "  </thead>\n",
       "  <tbody>\n",
       "    <tr>\n",
       "      <th>id</th>\n",
       "      <td>1.000000</td>\n",
       "      <td>0.626872</td>\n",
       "      <td>0.626742</td>\n",
       "      <td>0.627069</td>\n",
       "      <td>0.626956</td>\n",
       "      <td>-0.197694</td>\n",
       "      <td>0.938767</td>\n",
       "    </tr>\n",
       "    <tr>\n",
       "      <th>open</th>\n",
       "      <td>0.626872</td>\n",
       "      <td>1.000000</td>\n",
       "      <td>0.999862</td>\n",
       "      <td>0.999866</td>\n",
       "      <td>0.999764</td>\n",
       "      <td>-0.023956</td>\n",
       "      <td>0.647596</td>\n",
       "    </tr>\n",
       "    <tr>\n",
       "      <th>high</th>\n",
       "      <td>0.626742</td>\n",
       "      <td>0.999862</td>\n",
       "      <td>1.000000</td>\n",
       "      <td>0.999758</td>\n",
       "      <td>0.999881</td>\n",
       "      <td>-0.023895</td>\n",
       "      <td>0.647537</td>\n",
       "    </tr>\n",
       "    <tr>\n",
       "      <th>low</th>\n",
       "      <td>0.627069</td>\n",
       "      <td>0.999866</td>\n",
       "      <td>0.999758</td>\n",
       "      <td>1.000000</td>\n",
       "      <td>0.999860</td>\n",
       "      <td>-0.024083</td>\n",
       "      <td>0.647706</td>\n",
       "    </tr>\n",
       "    <tr>\n",
       "      <th>close</th>\n",
       "      <td>0.626956</td>\n",
       "      <td>0.999764</td>\n",
       "      <td>0.999881</td>\n",
       "      <td>0.999860</td>\n",
       "      <td>1.000000</td>\n",
       "      <td>-0.023990</td>\n",
       "      <td>0.647728</td>\n",
       "    </tr>\n",
       "    <tr>\n",
       "      <th>volume</th>\n",
       "      <td>-0.197694</td>\n",
       "      <td>-0.023956</td>\n",
       "      <td>-0.023895</td>\n",
       "      <td>-0.024083</td>\n",
       "      <td>-0.023990</td>\n",
       "      <td>1.000000</td>\n",
       "      <td>-0.206248</td>\n",
       "    </tr>\n",
       "    <tr>\n",
       "      <th>epochtime</th>\n",
       "      <td>0.938767</td>\n",
       "      <td>0.647596</td>\n",
       "      <td>0.647537</td>\n",
       "      <td>0.647706</td>\n",
       "      <td>0.647728</td>\n",
       "      <td>-0.206248</td>\n",
       "      <td>1.000000</td>\n",
       "    </tr>\n",
       "  </tbody>\n",
       "</table>\n",
       "</div>"
      ],
      "text/plain": [
       "                 id      open      high       low     close    volume  \\\n",
       "id         1.000000  0.626872  0.626742  0.627069  0.626956 -0.197694   \n",
       "open       0.626872  1.000000  0.999862  0.999866  0.999764 -0.023956   \n",
       "high       0.626742  0.999862  1.000000  0.999758  0.999881 -0.023895   \n",
       "low        0.627069  0.999866  0.999758  1.000000  0.999860 -0.024083   \n",
       "close      0.626956  0.999764  0.999881  0.999860  1.000000 -0.023990   \n",
       "volume    -0.197694 -0.023956 -0.023895 -0.024083 -0.023990  1.000000   \n",
       "epochtime  0.938767  0.647596  0.647537  0.647706  0.647728 -0.206248   \n",
       "\n",
       "           epochtime  \n",
       "id          0.938767  \n",
       "open        0.647596  \n",
       "high        0.647537  \n",
       "low         0.647706  \n",
       "close       0.647728  \n",
       "volume     -0.206248  \n",
       "epochtime   1.000000  "
      ]
     },
     "execution_count": 13,
     "metadata": {},
     "output_type": "execute_result"
    }
   ],
   "source": [
    "df.corr(numeric_only=True)"
   ]
  },
  {
   "cell_type": "code",
   "execution_count": 18,
   "metadata": {},
   "outputs": [
    {
     "data": {
      "text/plain": [
       "Index(['id', 'open', 'high', 'low', 'close', 'volume', 'epochtime'], dtype='object')"
      ]
     },
     "execution_count": 18,
     "metadata": {},
     "output_type": "execute_result"
    }
   ],
   "source": [
    "df.columns"
   ]
  },
  {
   "cell_type": "code",
   "execution_count": 19,
   "metadata": {},
   "outputs": [
    {
     "data": {
      "text/plain": [
       "open\n",
       "644.95    73\n",
       "645.00    68\n",
       "625.00    50\n",
       "646.00    43\n",
       "615.00    43\n",
       "          ..\n",
       "568.60     1\n",
       "548.45     1\n",
       "570.25     1\n",
       "574.80     1\n",
       "551.20     1\n",
       "Name: count, Length: 2358, dtype: int64"
      ]
     },
     "execution_count": 19,
     "metadata": {},
     "output_type": "execute_result"
    }
   ],
   "source": [
    "df[\"open\"].value_counts()\n"
   ]
  }
 ],
 "metadata": {
  "kernelspec": {
   "display_name": "Django_Virtual",
   "language": "python",
   "name": "python3"
  },
  "language_info": {
   "codemirror_mode": {
    "name": "ipython",
    "version": 3
   },
   "file_extension": ".py",
   "mimetype": "text/x-python",
   "name": "python",
   "nbconvert_exporter": "python",
   "pygments_lexer": "ipython3",
   "version": "3.9.16"
  },
  "orig_nbformat": 4
 },
 "nbformat": 4,
 "nbformat_minor": 2
}

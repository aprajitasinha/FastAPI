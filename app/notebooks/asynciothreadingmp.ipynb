{
 "cells": [
  {
   "cell_type": "code",
   "execution_count": 1,
   "metadata": {},
   "outputs": [],
   "source": [
    "# asyncio\n",
    "\n",
    "#uses single-threaded coopertaive multitasking\n",
    "#best I/O task (e.g. API call, file I/O ,DB queries)\n"
   ]
  },
  {
   "cell_type": "code",
   "execution_count": 3,
   "metadata": {},
   "outputs": [
    {
     "name": "stdout",
     "output_type": "stream",
     "text": [
      "Task 1 startedTask 2 started\n",
      "\n",
      "Task 3 started\n",
      "Task 2 finished\n",
      "Task 1 finished\n",
      "Task 3 finished\n",
      "Task 4 started, waiting for Task 2 and 3\n",
      "Task 4 finished\n",
      "All tasks completed.\n"
     ]
    }
   ],
   "source": [
    "import threading\n",
    "import time\n",
    "\n",
    "def task1():\n",
    "    print(\"Task 1 started\")\n",
    "    # Simulate work\n",
    "    time.sleep(2)\n",
    "    print(\"Task 1 finished\")\n",
    "\n",
    "def task2():\n",
    "    print(\"Task 2 started\")\n",
    "    # Independent task\n",
    "    time.sleep(1)\n",
    "    print(\"Task 2 finished\")\n",
    "\n",
    "def task3():\n",
    "    print(\"Task 3 started\")\n",
    "    # Independent task\n",
    "    time.sleep(3)\n",
    "    print(\"Task 3 finished\")\n",
    "\n",
    "def task4():\n",
    "    print(\"Task 4 started, waiting for Task 2 and 3\")\n",
    "    # Simulate work or dependency\n",
    "    time.sleep(1)\n",
    "    print(\"Task 4 finished\")\n",
    "\n",
    "# Create threads\n",
    "t1 = threading.Thread(target=task1)\n",
    "t2 = threading.Thread(target=task2)\n",
    "t3 = threading.Thread(target=task3)\n",
    "t4 = threading.Thread(target=task4)\n",
    "\n",
    "# Start threads\n",
    "t1.start()\n",
    "t2.start()\n",
    "t3.start()\n",
    "\n",
    "# Wait for independent threads to finish before starting dependent task\n",
    "t2.join()\n",
    "t3.join()\n",
    "\n",
    "# Now start task 4 which depends on 2 and 3\n",
    "t4.start()\n",
    "\n",
    "# Optional: wait for all to finish\n",
    "t1.join()\n",
    "t4.join()\n",
    "\n",
    "print(\"All tasks completed.\")\n",
    "\n"
   ]
  }
 ],
 "metadata": {
  "kernelspec": {
   "display_name": "Django_Virtual",
   "language": "python",
   "name": "python3"
  },
  "language_info": {
   "codemirror_mode": {
    "name": "ipython",
    "version": 3
   },
   "file_extension": ".py",
   "mimetype": "text/x-python",
   "name": "python",
   "nbconvert_exporter": "python",
   "pygments_lexer": "ipython3",
   "version": "3.9.16"
  },
  "orig_nbformat": 4
 },
 "nbformat": 4,
 "nbformat_minor": 2
}

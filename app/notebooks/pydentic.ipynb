{
 "cells": [
  {
   "cell_type": "code",
   "execution_count": 5,
   "metadata": {},
   "outputs": [],
   "source": [
    "from pydantic import BaseModel,Field,EmailStr\n",
    "from typing import Optional , List , Tuple\n",
    "\n",
    "class Test(BaseModel):\n",
    "    user_id: int\n",
    "    user_name : str\n",
    "    \n",
    "\n",
    "class User(Test):\n",
    "    id: int\n",
    "    name: List[str]\n",
    "    email: bool\n",
    "    age: Optional[int] = None\n",
    "\n",
    "user = user = User(\n",
    "    id=101,\n",
    "    name=[\"Alice\", \"Ally\"],\n",
    "    email=True,\n",
    "    age=25,\n",
    "    user_id = 1,\n",
    "    user_name = 'strrrrrr'\n",
    ")\n",
    "\n",
    "\n",
    "    \n"
   ]
  },
  {
   "cell_type": "code",
   "execution_count": 9,
   "metadata": {},
   "outputs": [],
   "source": [
    "class UserInput(BaseModel):\n",
    "    username: str = Field(..., min_length=3)\n",
    "    password: str = Field(..., min_length=6)\n",
    "    email: EmailStr\n",
    "    \n",
    "    class Config:\n",
    "        extra = \"forbid\" \n"
   ]
  },
  {
   "cell_type": "code",
   "execution_count": 8,
   "metadata": {},
   "outputs": [
    {
     "name": "stdout",
     "output_type": "stream",
     "text": [
      "zsh:1: no matches found: pydantic[email]\n"
     ]
    }
   ],
   "source": [
    "\n"
   ]
  }
 ],
 "metadata": {
  "kernelspec": {
   "display_name": "Django_Virtual",
   "language": "python",
   "name": "python3"
  },
  "language_info": {
   "codemirror_mode": {
    "name": "ipython",
    "version": 3
   },
   "file_extension": ".py",
   "mimetype": "text/x-python",
   "name": "python",
   "nbconvert_exporter": "python",
   "pygments_lexer": "ipython3",
   "version": "3.9.16"
  },
  "orig_nbformat": 4
 },
 "nbformat": 4,
 "nbformat_minor": 2
}

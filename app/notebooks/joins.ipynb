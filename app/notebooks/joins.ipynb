{
 "cells": [
  {
   "cell_type": "code",
   "execution_count": 3,
   "metadata": {},
   "outputs": [],
   "source": [
    "#inner join \n",
    "# Returns only the rows with matching values in both tables.\n",
    "\n"
   ]
  },
  {
   "cell_type": "code",
   "execution_count": null,
   "metadata": {},
   "outputs": [],
   "source": []
  },
  {
   "cell_type": "code",
   "execution_count": null,
   "metadata": {},
   "outputs": [],
   "source": []
  },
  {
   "cell_type": "code",
   "execution_count": null,
   "metadata": {},
   "outputs": [],
   "source": [
    "\n",
    "#full outer join\n",
    "# Returns all rows from both tables, with NULLs wherever there's no match.\n",
    "\n"
   ]
  },
  {
   "cell_type": "code",
   "execution_count": null,
   "metadata": {},
   "outputs": [],
   "source": [
    "##right join\n",
    "\n",
    "# Returns all rows from the right table, and matching rows from the left. Shows NULLs if no match.\n",
    "\n"
   ]
  },
  {
   "cell_type": "code",
   "execution_count": null,
   "metadata": {},
   "outputs": [],
   "source": [
    "#Left join\n",
    "\n",
    "#Returns only the rows with matching values in both tables.\n",
    "\n",
    "\n"
   ]
  },
  {
   "cell_type": "code",
   "execution_count": 11,
   "metadata": {},
   "outputs": [
    {
     "name": "stdout",
     "output_type": "stream",
     "text": [
      "djdk ksk loeb I\n"
     ]
    }
   ],
   "source": [
    "from fastapi import FastAPI\n",
    "from pydantic import BaseModel\n",
    "app=FastAPI()\n",
    "\n",
    "\n",
    "\n",
    "@app.get(\"/reverse-name/\")\n",
    "def reverse_name(input_text):\n",
    "    words = input_text.split()\n",
    "    reversed_string=[]\n",
    "    for i in range(len(words)-1,-1,-1):\n",
    "        reversed_string.append(words[i])\n",
    "    result= ''\n",
    "    for word in reversed_string:\n",
    "        result+=word+' '\n",
    "    return result.strip()\n",
    "\n",
    "\n",
    "user_input = \"I loeb ksk djdk\"\n",
    "output = reverse_name(user_input)\n",
    "print(output)\n"
   ]
  }
 ],
 "metadata": {
  "kernelspec": {
   "display_name": "Django_Virtual",
   "language": "python",
   "name": "python3"
  },
  "language_info": {
   "codemirror_mode": {
    "name": "ipython",
    "version": 3
   },
   "file_extension": ".py",
   "mimetype": "text/x-python",
   "name": "python",
   "nbconvert_exporter": "python",
   "pygments_lexer": "ipython3",
   "version": "3.9.16"
  },
  "orig_nbformat": 4
 },
 "nbformat": 4,
 "nbformat_minor": 2
}

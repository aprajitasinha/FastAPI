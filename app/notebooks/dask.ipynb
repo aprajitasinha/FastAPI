{
 "cells": [
  {
   "cell_type": "code",
   "execution_count": null,
   "metadata": {},
   "outputs": [],
   "source": [
    "import dask.datafrom as dd\n",
    "import pandas as pd\n",
    "import psycopg2\n",
    "\n",
    "\n",
    "def get_connection():\n",
    "    return psycopg2.connect(\n",
    "        database=\"stockanalysis\",\n",
    "        user=\"aryanpatel\",\n",
    "        password=\"12345\",\n",
    "        host=\"localhost\",\n",
    "        port=\"5432\"\n",
    "    )\n",
    "\n",
    "def fetch_data():\n",
    "    conn = get_connection()\n",
    "    query = 'SELECT * FROM \"UPL\".\"candle_1m\";'\n",
    "    \n",
    "    try:\n",
    "        # Fetch data using psycopg2\n",
    "        with conn.cursor() as cur:\n",
    "            cur.execute(query)\n",
    "            rows=cur.fetchall()\n",
    "            coloumns=[desc[0] for desc in cur.description]\n",
    "            df=pd.DataFrame(rows,columns=coloumns)\n",
    "        return df\n",
    "    except Exception as e:\n",
    "        print(\"Error:\", e)\n",
    "    finally:\n",
    "        conn.close()\n",
    "    \n",
    "    return df\n",
    "\n",
    "pandas_df = fetch_data()  # Get the data from PostgreSQL as a pandas DataFrame\n",
    "dask_df = dd.from_pandas(pandas_df, npartitions=4)  # Convert to Dask DataFrame with 4 partitions\n",
    "\n"
   ]
  }
 ],
 "metadata": {
  "kernelspec": {
   "display_name": "Django_Virtual",
   "language": "python",
   "name": "python3"
  },
  "language_info": {
   "name": "python",
   "version": "3.9.16"
  },
  "orig_nbformat": 4
 },
 "nbformat": 4,
 "nbformat_minor": 2
}

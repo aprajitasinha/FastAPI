{
 "cells": [
  {
   "cell_type": "code",
   "execution_count": 50,
   "metadata": {},
   "outputs": [],
   "source": [
    "import psycopg2\n",
    "import requests"
   ]
  },
  {
   "cell_type": "code",
   "execution_count": 38,
   "metadata": {},
   "outputs": [],
   "source": [
    "conn=psycopg2.connect(database=\"stockgraphdb\",\n",
    "                 user=\"aryanpatel\",\n",
    "                 password=\"12345\",\n",
    "                 host=\"localhost\",\n",
    "                 port=\"5432\")\n",
    "\n",
    "cursor=conn.cursor()"
   ]
  },
  {
   "cell_type": "code",
   "execution_count": 39,
   "metadata": {},
   "outputs": [],
   "source": [
    "sqlQuery=\"\"\"INSERT INTO adanient.adanient_1m (open,close,high,low,volume,epochtime) VALUES(2.00, 4.0, 3.5 ,4.5 ,2244 ,1682513967)\n",
    "ON CONFLICT(epochtime)  \n",
    "DO UPDATE SET\n",
    "open = EXCLUDED.open,\n",
    "close=EXCLUDED.close,\n",
    "high=EXCLUDED.high,\n",
    "volume=EXCLUDED.volume;\n",
    "\"\"\"\n",
    "\n",
    "\n",
    "try:\n",
    "    cursor.execute(sqlQuery)\n",
    "    conn.commit()\n",
    "except Exception as e:\n",
    "    print(\"Error:\", e)\n",
    "    conn.rollback()\n",
    "finally:\n",
    "    cursor.close()\n",
    "    conn.close()"
   ]
  },
  {
   "cell_type": "code",
   "execution_count": 54,
   "metadata": {},
   "outputs": [
    {
     "name": "stdout",
     "output_type": "stream",
     "text": [
      "https://groww.in/v1/api/charting_service/v4/chart/exchange/NSE/segment/CASH/ADANIENT?intervalInMinutes=1&startTimeInMillis=1715139900000&endTimeInMillis=1745575200000\n"
     ]
    }
   ],
   "source": [
    "import pytz\n",
    "from datetime import datetime, timedelta\n",
    "def generate_groww_api_url(symbol, start_date_str, end_date_str, interval_minutes):\n",
    "    ist = pytz.timezone(\"Asia/Kolkata\")\n",
    "    \n",
    "    # Convert string dates to datetime\n",
    "    start_date = datetime.strptime(start_date_str, \"%Y-%m-%d\")\n",
    "    end_date = datetime.strptime(end_date_str, \"%Y-%m-%d\")\n",
    "    \n",
    "    # Set time to 9:15 AM for start date\n",
    "    start_datetime = ist.localize(datetime.combine(start_date, datetime.strptime(\"09:15\", \"%H:%M\").time()))\n",
    "    \n",
    "    # Set time to 3:30 PM for end date\n",
    "    end_datetime = ist.localize(datetime.combine(end_date, datetime.strptime(\"15:30\", \"%H:%M\").time()))\n",
    "    \n",
    "    # Convert to milliseconds\n",
    "    start_millis = int(start_datetime.timestamp() * 1000)\n",
    "    end_millis = int(end_datetime.timestamp() * 1000)\n",
    "    \n",
    "    url = f\"https://groww.in/v1/api/charting_service/v4/chart/exchange/NSE/segment/CASH/{symbol}?intervalInMinutes={interval_minutes}&startTimeInMillis={start_millis}&endTimeInMillis={end_millis}\"\n",
    "    \n",
    "    return url\n",
    "\n",
    "# Example usage:\n",
    "\n",
    "symbol = \"ADANIENT\"\n",
    "start_date = \"2024-05-08\"   # 8th May 2024\n",
    "end_date = \"2025-04-25\"     # 25th April 2025\n",
    "interval = 1                # 1 minute\n",
    "\n",
    "url = generate_groww_api_url(symbol, start_date, end_date, interval)\n",
    "print(url)"
   ]
  },
  {
   "cell_type": "code",
   "execution_count": null,
   "metadata": {},
   "outputs": [],
   "source": [
    "def generate_intraday_intervals(end_date, interval_name):\n",
    "    ist = pytz.timezone(\"Asia/Kolkata\")\n",
    "\n",
    "    # Fixed start date: Wednesday, 8 May 2024, 09:15 AM IST\n",
    "    fixed_start_date = datetime(2024, 5, 8, 9, 15)\n",
    "    fixed_start_datetime = ist.localize(fixed_start_date)\n",
    "\n",
    "    # Move end date 7 days back\n",
    "    end_date_adjusted = end_date - timedelta(days=7)\n",
    "\n",
    "    # Ensure only weekdays and proper market timing\n",
    "    intervals = []\n",
    "\n",
    "    current_date = fixed_start_datetime.date()\n",
    "    final_date = end_date_adjusted.date()\n",
    "\n",
    "    interval_minutes = interval_map.get(interval_name, 1)  # default 1 min if not found\n",
    "\n",
    "    while current_date <= final_date:\n",
    "        # Only weekdays (Mon-Fri)\n",
    "        if current_date.weekday() < 5:\n",
    "            start_datetime = ist.localize(datetime.combine(current_date, datetime.strptime(\"09:15\", \"%H:%M\").time()))\n",
    "            end_datetime = ist.localize(datetime.combine(current_date, datetime.strptime(\"15:30\", \"%H:%M\").time()))\n",
    "\n",
    "            intervals.append((start_datetime, end_datetime))\n",
    "\n",
    "        current_date += timedelta(days=1)\n",
    "\n",
    "    return intervals\n",
    "\n",
    "\n",
    "\n"
   ]
  },
  {
   "cell_type": "code",
   "execution_count": 55,
   "metadata": {},
   "outputs": [],
   "source": [
    "start_date = datetime(2025 , 1, 1) # Example start date    \n",
    "#create intervals every week after 1 week and end week is today\n",
    "\n",
    "today = datetime.now()\n",
    "##end date should be startdate + 7 days until today\n",
    "intervals = []\n",
    "\n",
    "while start_date < today:\n",
    "    intervals.append((start_date, start_date + timedelta(days=7)))\n",
    "    start_date = start_date + timedelta(days=7)"
   ]
  },
  {
   "cell_type": "code",
   "execution_count": 56,
   "metadata": {},
   "outputs": [
    {
     "data": {
      "text/plain": [
       "[(datetime.datetime(2025, 1, 1, 0, 0), datetime.datetime(2025, 1, 8, 0, 0)),\n",
       " (datetime.datetime(2025, 1, 8, 0, 0), datetime.datetime(2025, 1, 15, 0, 0)),\n",
       " (datetime.datetime(2025, 1, 15, 0, 0), datetime.datetime(2025, 1, 22, 0, 0)),\n",
       " (datetime.datetime(2025, 1, 22, 0, 0), datetime.datetime(2025, 1, 29, 0, 0)),\n",
       " (datetime.datetime(2025, 1, 29, 0, 0), datetime.datetime(2025, 2, 5, 0, 0)),\n",
       " (datetime.datetime(2025, 2, 5, 0, 0), datetime.datetime(2025, 2, 12, 0, 0)),\n",
       " (datetime.datetime(2025, 2, 12, 0, 0), datetime.datetime(2025, 2, 19, 0, 0)),\n",
       " (datetime.datetime(2025, 2, 19, 0, 0), datetime.datetime(2025, 2, 26, 0, 0)),\n",
       " (datetime.datetime(2025, 2, 26, 0, 0), datetime.datetime(2025, 3, 5, 0, 0)),\n",
       " (datetime.datetime(2025, 3, 5, 0, 0), datetime.datetime(2025, 3, 12, 0, 0)),\n",
       " (datetime.datetime(2025, 3, 12, 0, 0), datetime.datetime(2025, 3, 19, 0, 0)),\n",
       " (datetime.datetime(2025, 3, 19, 0, 0), datetime.datetime(2025, 3, 26, 0, 0)),\n",
       " (datetime.datetime(2025, 3, 26, 0, 0), datetime.datetime(2025, 4, 2, 0, 0)),\n",
       " (datetime.datetime(2025, 4, 2, 0, 0), datetime.datetime(2025, 4, 9, 0, 0)),\n",
       " (datetime.datetime(2025, 4, 9, 0, 0), datetime.datetime(2025, 4, 16, 0, 0)),\n",
       " (datetime.datetime(2025, 4, 16, 0, 0), datetime.datetime(2025, 4, 23, 0, 0)),\n",
       " (datetime.datetime(2025, 4, 23, 0, 0), datetime.datetime(2025, 4, 30, 0, 0))]"
      ]
     },
     "execution_count": 56,
     "metadata": {},
     "output_type": "execute_result"
    }
   ],
   "source": [
    "intervals"
   ]
  },
  {
   "cell_type": "code",
   "execution_count": 59,
   "metadata": {},
   "outputs": [],
   "source": [
    "#convert intervasl to epochime\n",
    "def convert_to_epoch(intervals):\n",
    "    epoch_intervals = []\n",
    "    for start, end in intervals:\n",
    "        start_epoch = int(start.timestamp())\n",
    "        end_epoch = int(end.timestamp())\n",
    "        epoch_intervals.append((start_epoch, end_epoch))\n",
    "    return epoch_intervals"
   ]
  },
  {
   "cell_type": "code",
   "execution_count": 61,
   "metadata": {},
   "outputs": [
    {
     "data": {
      "text/plain": [
       "[(1735669800, 1736274600),\n",
       " (1736274600, 1736879400),\n",
       " (1736879400, 1737484200),\n",
       " (1737484200, 1738089000),\n",
       " (1738089000, 1738693800),\n",
       " (1738693800, 1739298600),\n",
       " (1739298600, 1739903400),\n",
       " (1739903400, 1740508200),\n",
       " (1740508200, 1741113000),\n",
       " (1741113000, 1741717800),\n",
       " (1741717800, 1742322600),\n",
       " (1742322600, 1742927400),\n",
       " (1742927400, 1743532200),\n",
       " (1743532200, 1744137000),\n",
       " (1744137000, 1744741800),\n",
       " (1744741800, 1745346600),\n",
       " (1745346600, 1745951400)]"
      ]
     },
     "execution_count": 61,
     "metadata": {},
     "output_type": "execute_result"
    }
   ],
   "source": [
    "convert_to_epoch(intervals)"
   ]
  },
  {
   "cell_type": "code",
   "execution_count": 74,
   "metadata": {},
   "outputs": [],
   "source": [
    "def connection():\n",
    "    conn = psycopg2.connect(\n",
    "        database=\"stockanalysis\",\n",
    "        user='aryanpatel',\n",
    "        password=\"12345\",\n",
    "        host=\"localhost\",\n",
    "        port=\"5432\"\n",
    "    )\n",
    "    return conn\n",
    "\n",
    "def create_table(conn, stock_name, interval_name):\n",
    "    \n",
    "    conn.cursor().execute(f'CREATE SCHEMA IF NOT EXISTS {stock_name}')  # Use quotes to handle special characters\n",
    "\n",
    "    conn.cursor().execute(f\"\"\"\n",
    "        CREATE TABLE IF NOT EXISTS {stock_name}.candle_{interval_name} (\n",
    "            id SERIAL PRIMARY KEY,\n",
    "            open FLOAT,\n",
    "            high FLOAT,\n",
    "            low FLOAT,\n",
    "            close FLOAT,\n",
    "            volume FLOAT,\n",
    "            epochtime BIGINT UNIQUE NOT NULL\n",
    "        )\n",
    "    \"\"\")\n",
    "    conn.commit()\n",
    "    "
   ]
  },
  {
   "cell_type": "code",
   "execution_count": 76,
   "metadata": {},
   "outputs": [
    {
     "ename": "SyntaxError",
     "evalue": "syntax error at or near \"&\"\nLINE 1: CREATE SCHEMA IF NOT EXISTS M&M\n                                     ^\n",
     "output_type": "error",
     "traceback": [
      "\u001b[0;31m---------------------------------------------------------------------------\u001b[0m",
      "\u001b[0;31mSyntaxError\u001b[0m                               Traceback (most recent call last)",
      "\u001b[1;32m/Users/aryanpatel/Desktop/Python/fastAPI/FastAPI/test.ipynb Cell 11\u001b[0m line \u001b[0;36m4\n\u001b[1;32m      <a href='vscode-notebook-cell:/Users/aryanpatel/Desktop/Python/fastAPI/FastAPI/test.ipynb#X15sZmlsZQ%3D%3D?line=1'>2</a>\u001b[0m stock_name \u001b[39m=\u001b[39m \u001b[39m\"\u001b[39m\u001b[39mM&M\u001b[39m\u001b[39m\"\u001b[39m\n\u001b[1;32m      <a href='vscode-notebook-cell:/Users/aryanpatel/Desktop/Python/fastAPI/FastAPI/test.ipynb#X15sZmlsZQ%3D%3D?line=2'>3</a>\u001b[0m interval_name \u001b[39m=\u001b[39m \u001b[39m\"\u001b[39m\u001b[39m1m\u001b[39m\u001b[39m\"\u001b[39m\n\u001b[0;32m----> <a href='vscode-notebook-cell:/Users/aryanpatel/Desktop/Python/fastAPI/FastAPI/test.ipynb#X15sZmlsZQ%3D%3D?line=3'>4</a>\u001b[0m create_table(conn, stock_name, interval_name)\n\u001b[1;32m      <a href='vscode-notebook-cell:/Users/aryanpatel/Desktop/Python/fastAPI/FastAPI/test.ipynb#X15sZmlsZQ%3D%3D?line=4'>5</a>\u001b[0m conn\u001b[39m.\u001b[39mclose()\n",
      "\u001b[1;32m/Users/aryanpatel/Desktop/Python/fastAPI/FastAPI/test.ipynb Cell 11\u001b[0m line \u001b[0;36m1\n\u001b[1;32m     <a href='vscode-notebook-cell:/Users/aryanpatel/Desktop/Python/fastAPI/FastAPI/test.ipynb#X15sZmlsZQ%3D%3D?line=10'>11</a>\u001b[0m \u001b[39mdef\u001b[39;00m \u001b[39mcreate_table\u001b[39m(conn, stock_name, interval_name):\n\u001b[0;32m---> <a href='vscode-notebook-cell:/Users/aryanpatel/Desktop/Python/fastAPI/FastAPI/test.ipynb#X15sZmlsZQ%3D%3D?line=12'>13</a>\u001b[0m     conn\u001b[39m.\u001b[39;49mcursor()\u001b[39m.\u001b[39;49mexecute(\u001b[39mf\u001b[39;49m\u001b[39m'\u001b[39;49m\u001b[39mCREATE SCHEMA IF NOT EXISTS \u001b[39;49m\u001b[39m{\u001b[39;49;00mstock_name\u001b[39m}\u001b[39;49;00m\u001b[39m'\u001b[39;49m)  \u001b[39m# Use quotes to handle special characters\u001b[39;00m\n\u001b[1;32m     <a href='vscode-notebook-cell:/Users/aryanpatel/Desktop/Python/fastAPI/FastAPI/test.ipynb#X15sZmlsZQ%3D%3D?line=14'>15</a>\u001b[0m     conn\u001b[39m.\u001b[39mcursor()\u001b[39m.\u001b[39mexecute(\u001b[39mf\u001b[39m\u001b[39m\"\"\"\u001b[39m\n\u001b[1;32m     <a href='vscode-notebook-cell:/Users/aryanpatel/Desktop/Python/fastAPI/FastAPI/test.ipynb#X15sZmlsZQ%3D%3D?line=15'>16</a>\u001b[0m \u001b[39m        CREATE TABLE IF NOT EXISTS \u001b[39m\u001b[39m{\u001b[39;00mstock_name\u001b[39m}\u001b[39;00m\u001b[39m.candle_\u001b[39m\u001b[39m{\u001b[39;00minterval_name\u001b[39m}\u001b[39;00m\u001b[39m (\u001b[39m\n\u001b[1;32m     <a href='vscode-notebook-cell:/Users/aryanpatel/Desktop/Python/fastAPI/FastAPI/test.ipynb#X15sZmlsZQ%3D%3D?line=16'>17</a>\u001b[0m \u001b[39m            id SERIAL PRIMARY KEY,\u001b[39m\n\u001b[0;32m   (...)\u001b[0m\n\u001b[1;32m     <a href='vscode-notebook-cell:/Users/aryanpatel/Desktop/Python/fastAPI/FastAPI/test.ipynb#X15sZmlsZQ%3D%3D?line=23'>24</a>\u001b[0m \u001b[39m        )\u001b[39m\n\u001b[1;32m     <a href='vscode-notebook-cell:/Users/aryanpatel/Desktop/Python/fastAPI/FastAPI/test.ipynb#X15sZmlsZQ%3D%3D?line=24'>25</a>\u001b[0m \u001b[39m    \u001b[39m\u001b[39m\"\"\"\u001b[39m)\n\u001b[1;32m     <a href='vscode-notebook-cell:/Users/aryanpatel/Desktop/Python/fastAPI/FastAPI/test.ipynb#X15sZmlsZQ%3D%3D?line=25'>26</a>\u001b[0m     conn\u001b[39m.\u001b[39mcommit()\n",
      "\u001b[0;31mSyntaxError\u001b[0m: syntax error at or near \"&\"\nLINE 1: CREATE SCHEMA IF NOT EXISTS M&M\n                                     ^\n"
     ]
    }
   ],
   "source": [
    "conn = connection()\n",
    "stock_name = \"M&M\"\n",
    "interval_name = \"1m\"\n",
    "create_table(conn, stock_name, interval_name)\n",
    "conn.close()"
   ]
  }
 ],
 "metadata": {
  "kernelspec": {
   "display_name": "python-3.9.16-virtual",
   "language": "python",
   "name": "python3"
  },
  "language_info": {
   "codemirror_mode": {
    "name": "ipython",
    "version": 3
   },
   "file_extension": ".py",
   "mimetype": "text/x-python",
   "name": "python",
   "nbconvert_exporter": "python",
   "pygments_lexer": "ipython3",
   "version": "3.9.16"
  },
  "orig_nbformat": 4
 },
 "nbformat": 4,
 "nbformat_minor": 2
}

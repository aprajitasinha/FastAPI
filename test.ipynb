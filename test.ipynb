{
 "cells": [
  {
   "cell_type": "code",
   "execution_count": 26,
   "metadata": {},
   "outputs": [
    {
     "name": "stderr",
     "output_type": "stream",
     "text": [
      "/Users/aryanpatel/.pyenv/versions/3.9.16/envs/python-3.9.16-virtual/lib/python3.9/site-packages/psycopg2/__init__.py:51: RuntimeWarning: coroutine 'main' was never awaited\n",
      "  from psycopg2._psycopg import (                     # noqa\n",
      "RuntimeWarning: Enable tracemalloc to get the object allocation traceback\n",
      "/Users/aryanpatel/.pyenv/versions/3.9.16/envs/python-3.9.16-virtual/lib/python3.9/site-packages/urllib3/util/connection.py:7: RuntimeWarning: coroutine 'main' was never awaited\n",
      "  from .timeout import _DEFAULT_TIMEOUT, _TYPE_TIMEOUT\n",
      "RuntimeWarning: Enable tracemalloc to get the object allocation traceback\n"
     ]
    }
   ],
   "source": [
    "import psycopg2"
   ]
  },
  {
   "cell_type": "code",
   "execution_count": 27,
   "metadata": {},
   "outputs": [],
   "source": [
    "conn=psycopg2.connect(database=\"stockgraphdb\",\n",
    "                 user=\"aryanpatel\",\n",
    "                 password=\"12345\",\n",
    "                 host=\"localhost\",\n",
    "                 port=\"5432\")\n",
    "\n",
    "cursor=conn.cursor()"
   ]
  },
  {
   "cell_type": "code",
   "execution_count": 28,
   "metadata": {},
   "outputs": [
    {
     "name": "stdout",
     "output_type": "stream",
     "text": [
      "Error: relation \"adanient.adanient_1m\" does not exist\n",
      "LINE 1: INSERT INTO adanient.adanient_1m (open,close,high,low,volume...\n",
      "                    ^\n",
      "\n"
     ]
    }
   ],
   "source": [
    "sqlQuery=\"\"\"INSERT INTO adanient.adanient_1m (open,close,high,low,volume,epochtime) VALUES(2.00, 4.0, 3.5 ,4.5 ,2244 ,1682513967)\n",
    "ON CONFLICT(epochtime)  \n",
    "DO UPDATE SET\n",
    "open = EXCLUDED.open,\n",
    "close=EXCLUDED.close,\n",
    "high=EXCLUDED.high,\n",
    "volume=EXCLUDED.volume;\n",
    "\"\"\"\n",
    "\n",
    "\n",
    "try:\n",
    "    cursor.execute(sqlQuery)\n",
    "    conn.commit()\n",
    "except Exception as e:\n",
    "    print(\"Error:\", e)\n",
    "    conn.rollback()\n",
    "finally:\n",
    "    cursor.close()\n",
    "    conn.close()"
   ]
  },
  {
   "cell_type": "code",
   "execution_count": 29,
   "metadata": {},
   "outputs": [
    {
     "name": "stdout",
     "output_type": "stream",
     "text": [
      "https://groww.in/v1/api/charting_service/v4/chart/exchange/NSE/segment/CASH/ADANIENT?intervalInMinutes=1&startTimeInMillis=1715139900000&endTimeInMillis=1745575200000\n"
     ]
    }
   ],
   "source": [
    "import pytz\n",
    "from datetime import datetime, timedelta\n",
    "def generate_groww_api_url(symbol, start_date_str, end_date_str, interval_minutes):\n",
    "    ist = pytz.timezone(\"Asia/Kolkata\")\n",
    "    \n",
    "    # Convert string dates to datetime\n",
    "    start_date = datetime.strptime(start_date_str, \"%Y-%m-%d\")\n",
    "    end_date = datetime.strptime(end_date_str, \"%Y-%m-%d\")\n",
    "    \n",
    "    # Set time to 9:15 AM for start date\n",
    "    start_datetime = ist.localize(datetime.combine(start_date, datetime.strptime(\"09:15\", \"%H:%M\").time()))\n",
    "    \n",
    "    # Set time to 3:30 PM for end date\n",
    "    end_datetime = ist.localize(datetime.combine(end_date, datetime.strptime(\"15:30\", \"%H:%M\").time()))\n",
    "    \n",
    "    # Convert to milliseconds\n",
    "    start_millis = int(start_datetime.timestamp() * 1000)\n",
    "    end_millis = int(end_datetime.timestamp() * 1000)\n",
    "    \n",
    "    url = f\"https://groww.in/v1/api/charting_service/v4/chart/exchange/NSE/segment/CASH/{symbol}?intervalInMinutes={interval_minutes}&startTimeInMillis={start_millis}&endTimeInMillis={end_millis}\"\n",
    "    \n",
    "    return url\n",
    "\n",
    "# Example usage:\n",
    "\n",
    "symbol = \"ADANIENT\"\n",
    "start_date = \"2024-05-08\"   # 8th May 2024\n",
    "end_date = \"2025-04-25\"     # 25th April 2025\n",
    "interval = 1                # 1 minute\n",
    "\n",
    "url = generate_groww_api_url(symbol, start_date, end_date, interval)\n",
    "print(url)"
   ]
  },
  {
   "cell_type": "code",
   "execution_count": 30,
   "metadata": {},
   "outputs": [],
   "source": [
    "def generate_intraday_intervals(end_date, interval_name):\n",
    "    ist = pytz.timezone(\"Asia/Kolkata\")\n",
    "\n",
    "    # Fixed start date: Wednesday, 8 May 2024, 09:15 AM IST\n",
    "    fixed_start_date = datetime(2024, 5, 8, 9, 15)\n",
    "    fixed_start_datetime = ist.localize(fixed_start_date)\n",
    "\n",
    "    # Move end date 7 days back\n",
    "    end_date_adjusted = end_date - timedelta(days=7)\n",
    "\n",
    "    # Ensure only weekdays and proper market timing\n",
    "    intervals = []\n",
    "\n",
    "    current_date = fixed_start_datetime.date()\n",
    "    final_date = end_date_adjusted.date()\n",
    "\n",
    "    interval_minutes = interval_map.get(interval_name, 1)  # default 1 min if not found\n",
    "\n",
    "    while current_date <= final_date:\n",
    "        # Only weekdays (Mon-Fri)\n",
    "        if current_date.weekday() < 5:\n",
    "            start_datetime = ist.localize(datetime.combine(current_date, datetime.strptime(\"09:15\", \"%H:%M\").time()))\n",
    "            end_datetime = ist.localize(datetime.combine(current_date, datetime.strptime(\"15:30\", \"%H:%M\").time()))\n",
    "\n",
    "            intervals.append((start_datetime, end_datetime))\n",
    "\n",
    "        current_date += timedelta(days=1)\n",
    "\n",
    "    return intervals\n",
    "\n",
    "\n",
    "\n"
   ]
  },
  {
   "cell_type": "code",
   "execution_count": 31,
   "metadata": {},
   "outputs": [],
   "source": [
    "start_date = datetime(2025 , 1, 1) # Example start date    \n",
    "#create intervals every week after 1 week and end week is today\n",
    "\n",
    "today = datetime.now()\n",
    "##end date should be startdate + 7 days until today\n",
    "intervals = []\n",
    "\n",
    "while start_date < today:\n",
    "    intervals.append((start_date, start_date + timedelta(days=7)))\n",
    "    start_date = start_date + timedelta(days=7)"
   ]
  },
  {
   "cell_type": "code",
   "execution_count": 32,
   "metadata": {},
   "outputs": [
    {
     "data": {
      "text/plain": [
       "[(datetime.datetime(2025, 1, 1, 0, 0), datetime.datetime(2025, 1, 8, 0, 0)),\n",
       " (datetime.datetime(2025, 1, 8, 0, 0), datetime.datetime(2025, 1, 15, 0, 0)),\n",
       " (datetime.datetime(2025, 1, 15, 0, 0), datetime.datetime(2025, 1, 22, 0, 0)),\n",
       " (datetime.datetime(2025, 1, 22, 0, 0), datetime.datetime(2025, 1, 29, 0, 0)),\n",
       " (datetime.datetime(2025, 1, 29, 0, 0), datetime.datetime(2025, 2, 5, 0, 0)),\n",
       " (datetime.datetime(2025, 2, 5, 0, 0), datetime.datetime(2025, 2, 12, 0, 0)),\n",
       " (datetime.datetime(2025, 2, 12, 0, 0), datetime.datetime(2025, 2, 19, 0, 0)),\n",
       " (datetime.datetime(2025, 2, 19, 0, 0), datetime.datetime(2025, 2, 26, 0, 0)),\n",
       " (datetime.datetime(2025, 2, 26, 0, 0), datetime.datetime(2025, 3, 5, 0, 0)),\n",
       " (datetime.datetime(2025, 3, 5, 0, 0), datetime.datetime(2025, 3, 12, 0, 0)),\n",
       " (datetime.datetime(2025, 3, 12, 0, 0), datetime.datetime(2025, 3, 19, 0, 0)),\n",
       " (datetime.datetime(2025, 3, 19, 0, 0), datetime.datetime(2025, 3, 26, 0, 0)),\n",
       " (datetime.datetime(2025, 3, 26, 0, 0), datetime.datetime(2025, 4, 2, 0, 0)),\n",
       " (datetime.datetime(2025, 4, 2, 0, 0), datetime.datetime(2025, 4, 9, 0, 0)),\n",
       " (datetime.datetime(2025, 4, 9, 0, 0), datetime.datetime(2025, 4, 16, 0, 0)),\n",
       " (datetime.datetime(2025, 4, 16, 0, 0), datetime.datetime(2025, 4, 23, 0, 0)),\n",
       " (datetime.datetime(2025, 4, 23, 0, 0), datetime.datetime(2025, 4, 30, 0, 0))]"
      ]
     },
     "execution_count": 32,
     "metadata": {},
     "output_type": "execute_result"
    }
   ],
   "source": [
    "intervals"
   ]
  },
  {
   "cell_type": "code",
   "execution_count": 33,
   "metadata": {},
   "outputs": [],
   "source": [
    "#convert intervasl to epochime\n",
    "def convert_to_epoch(intervals):\n",
    "    epoch_intervals = []\n",
    "    for start, end in intervals:\n",
    "        start_epoch = int(start.timestamp())\n",
    "        end_epoch = int(end.timestamp())\n",
    "        epoch_intervals.append((start_epoch, end_epoch))\n",
    "    return epoch_intervals"
   ]
  },
  {
   "cell_type": "code",
   "execution_count": 34,
   "metadata": {},
   "outputs": [
    {
     "data": {
      "text/plain": [
       "[(1735669800, 1736274600),\n",
       " (1736274600, 1736879400),\n",
       " (1736879400, 1737484200),\n",
       " (1737484200, 1738089000),\n",
       " (1738089000, 1738693800),\n",
       " (1738693800, 1739298600),\n",
       " (1739298600, 1739903400),\n",
       " (1739903400, 1740508200),\n",
       " (1740508200, 1741113000),\n",
       " (1741113000, 1741717800),\n",
       " (1741717800, 1742322600),\n",
       " (1742322600, 1742927400),\n",
       " (1742927400, 1743532200),\n",
       " (1743532200, 1744137000),\n",
       " (1744137000, 1744741800),\n",
       " (1744741800, 1745346600),\n",
       " (1745346600, 1745951400)]"
      ]
     },
     "execution_count": 34,
     "metadata": {},
     "output_type": "execute_result"
    }
   ],
   "source": [
    "convert_to_epoch(intervals)"
   ]
  },
  {
   "cell_type": "code",
   "execution_count": 35,
   "metadata": {},
   "outputs": [],
   "source": [
    "def connection():\n",
    "    conn = psycopg2.connect(\n",
    "        database=\"stockanalysis\",\n",
    "        user='aryanpatel',\n",
    "        password=\"12345\",\n",
    "        host=\"localhost\",\n",
    "        port=\"5432\"\n",
    "    )\n",
    "    return conn\n",
    "\n",
    "def create_table(conn, stock_name, interval_name):\n",
    "    \n",
    "    conn.cursor().execute(f'CREATE SCHEMA IF NOT EXISTS {stock_name}')  # Use quotes to handle special characters\n",
    "\n",
    "    conn.cursor().execute(f\"\"\"\n",
    "        CREATE TABLE IF NOT EXISTS {stock_name}.candle_{interval_name} (\n",
    "            id SERIAL PRIMARY KEY,\n",
    "            open FLOAT,\n",
    "            high FLOAT,\n",
    "            low FLOAT,\n",
    "            close FLOAT,\n",
    "            volume FLOAT,\n",
    "            epochtime BIGINT UNIQUE NOT NULL\n",
    "        )\n",
    "    \"\"\")\n",
    "    conn.commit()\n",
    "    "
   ]
  },
  {
   "cell_type": "code",
   "execution_count": 36,
   "metadata": {},
   "outputs": [
    {
     "ename": "SyntaxError",
     "evalue": "syntax error at or near \"&\"\nLINE 1: CREATE SCHEMA IF NOT EXISTS M&M\n                                     ^\n",
     "output_type": "error",
     "traceback": [
      "\u001b[0;31m---------------------------------------------------------------------------\u001b[0m",
      "\u001b[0;31mSyntaxError\u001b[0m                               Traceback (most recent call last)",
      "\u001b[1;32m/Users/aryanpatel/Desktop/Python/fastAPI/FastAPI/test.ipynb Cell 11\u001b[0m line \u001b[0;36m4\n\u001b[1;32m      <a href='vscode-notebook-cell:/Users/aryanpatel/Desktop/Python/fastAPI/FastAPI/test.ipynb#X13sZmlsZQ%3D%3D?line=1'>2</a>\u001b[0m stock_name \u001b[39m=\u001b[39m \u001b[39m\"\u001b[39m\u001b[39mM&M\u001b[39m\u001b[39m\"\u001b[39m\n\u001b[1;32m      <a href='vscode-notebook-cell:/Users/aryanpatel/Desktop/Python/fastAPI/FastAPI/test.ipynb#X13sZmlsZQ%3D%3D?line=2'>3</a>\u001b[0m interval_name \u001b[39m=\u001b[39m \u001b[39m\"\u001b[39m\u001b[39m1m\u001b[39m\u001b[39m\"\u001b[39m\n\u001b[0;32m----> <a href='vscode-notebook-cell:/Users/aryanpatel/Desktop/Python/fastAPI/FastAPI/test.ipynb#X13sZmlsZQ%3D%3D?line=3'>4</a>\u001b[0m create_table(conn, stock_name, interval_name)\n\u001b[1;32m      <a href='vscode-notebook-cell:/Users/aryanpatel/Desktop/Python/fastAPI/FastAPI/test.ipynb#X13sZmlsZQ%3D%3D?line=4'>5</a>\u001b[0m conn\u001b[39m.\u001b[39mclose()\n",
      "\u001b[1;32m/Users/aryanpatel/Desktop/Python/fastAPI/FastAPI/test.ipynb Cell 11\u001b[0m line \u001b[0;36m1\n\u001b[1;32m     <a href='vscode-notebook-cell:/Users/aryanpatel/Desktop/Python/fastAPI/FastAPI/test.ipynb#X13sZmlsZQ%3D%3D?line=10'>11</a>\u001b[0m \u001b[39mdef\u001b[39;00m \u001b[39mcreate_table\u001b[39m(conn, stock_name, interval_name):\n\u001b[0;32m---> <a href='vscode-notebook-cell:/Users/aryanpatel/Desktop/Python/fastAPI/FastAPI/test.ipynb#X13sZmlsZQ%3D%3D?line=12'>13</a>\u001b[0m     conn\u001b[39m.\u001b[39;49mcursor()\u001b[39m.\u001b[39;49mexecute(\u001b[39mf\u001b[39;49m\u001b[39m'\u001b[39;49m\u001b[39mCREATE SCHEMA IF NOT EXISTS \u001b[39;49m\u001b[39m{\u001b[39;49;00mstock_name\u001b[39m}\u001b[39;49;00m\u001b[39m'\u001b[39;49m)  \u001b[39m# Use quotes to handle special characters\u001b[39;00m\n\u001b[1;32m     <a href='vscode-notebook-cell:/Users/aryanpatel/Desktop/Python/fastAPI/FastAPI/test.ipynb#X13sZmlsZQ%3D%3D?line=14'>15</a>\u001b[0m     conn\u001b[39m.\u001b[39mcursor()\u001b[39m.\u001b[39mexecute(\u001b[39mf\u001b[39m\u001b[39m\"\"\"\u001b[39m\n\u001b[1;32m     <a href='vscode-notebook-cell:/Users/aryanpatel/Desktop/Python/fastAPI/FastAPI/test.ipynb#X13sZmlsZQ%3D%3D?line=15'>16</a>\u001b[0m \u001b[39m        CREATE TABLE IF NOT EXISTS \u001b[39m\u001b[39m{\u001b[39;00mstock_name\u001b[39m}\u001b[39;00m\u001b[39m.candle_\u001b[39m\u001b[39m{\u001b[39;00minterval_name\u001b[39m}\u001b[39;00m\u001b[39m (\u001b[39m\n\u001b[1;32m     <a href='vscode-notebook-cell:/Users/aryanpatel/Desktop/Python/fastAPI/FastAPI/test.ipynb#X13sZmlsZQ%3D%3D?line=16'>17</a>\u001b[0m \u001b[39m            id SERIAL PRIMARY KEY,\u001b[39m\n\u001b[0;32m   (...)\u001b[0m\n\u001b[1;32m     <a href='vscode-notebook-cell:/Users/aryanpatel/Desktop/Python/fastAPI/FastAPI/test.ipynb#X13sZmlsZQ%3D%3D?line=23'>24</a>\u001b[0m \u001b[39m        )\u001b[39m\n\u001b[1;32m     <a href='vscode-notebook-cell:/Users/aryanpatel/Desktop/Python/fastAPI/FastAPI/test.ipynb#X13sZmlsZQ%3D%3D?line=24'>25</a>\u001b[0m \u001b[39m    \u001b[39m\u001b[39m\"\"\"\u001b[39m)\n\u001b[1;32m     <a href='vscode-notebook-cell:/Users/aryanpatel/Desktop/Python/fastAPI/FastAPI/test.ipynb#X13sZmlsZQ%3D%3D?line=25'>26</a>\u001b[0m     conn\u001b[39m.\u001b[39mcommit()\n",
      "\u001b[0;31mSyntaxError\u001b[0m: syntax error at or near \"&\"\nLINE 1: CREATE SCHEMA IF NOT EXISTS M&M\n                                     ^\n"
     ]
    }
   ],
   "source": [
    "conn = connection()\n",
    "stock_name = \"M&M\"\n",
    "interval_name = \"1m\"\n",
    "create_table(conn, stock_name, interval_name)\n",
    "conn.close()"
   ]
  },
  {
   "cell_type": "code",
   "execution_count": 147,
   "metadata": {},
   "outputs": [
    {
     "name": "stdout",
     "output_type": "stream",
     "text": [
      "24\n"
     ]
    }
   ],
   "source": [
    "import asyncio\n"
   ]
  },
  {
   "cell_type": "code",
   "execution_count": 47,
   "metadata": {},
   "outputs": [
    {
     "name": "stdout",
     "output_type": "stream",
     "text": [
      "Hello ...\n",
      "... World!\n"
     ]
    },
    {
     "data": {
      "text/plain": [
       "'hello'"
      ]
     },
     "execution_count": 47,
     "metadata": {},
     "output_type": "execute_result"
    }
   ],
   "source": [
    "import asyncio\n",
    "\n",
    "async def main():\n",
    "    print('Hello ...')\n",
    "    await asyncio.sleep(1)\n",
    "    print('... World!')\n",
    "\n",
    "asyncio.run(main()) \n",
    "await asyncio.sleep(1, result='hello')\n"
   ]
  },
  {
   "cell_type": "code",
   "execution_count": 51,
   "metadata": {},
   "outputs": [
    {
     "name": "stdout",
     "output_type": "stream",
     "text": [
      "started at 10:07:54\n",
      "hello\n",
      "world\n",
      "finished at 10:07:57\n"
     ]
    }
   ],
   "source": [
    "import asyncio\n",
    "import time\n",
    "\n",
    "async def say_after(delay, what):\n",
    "    await asyncio.sleep(delay)\n",
    "    print(what)\n",
    "\n",
    "async def main():\n",
    "    print(f\"started at {time.strftime('%X')}\")\n",
    "\n",
    "    await say_after(1, 'hello')\n",
    "    await say_after(2, 'world')\n",
    "\n",
    "    print(f\"finished at {time.strftime('%X')}\")\n",
    "\n",
    "asyncio.run(main())"
   ]
  },
  {
   "cell_type": "code",
   "execution_count": 73,
   "metadata": {},
   "outputs": [
    {
     "name": "stdout",
     "output_type": "stream",
     "text": [
      "started at 11:00:31\n",
      "hello\n",
      "world\n",
      "finished at 11:00:41\n"
     ]
    }
   ],
   "source": [
    "async def main():\n",
    "    task1 = asyncio.create_task(\n",
    "        say_after(4, 'hello'))\n",
    "\n",
    "    task2 = asyncio.create_task(\n",
    "        say_after(10, 'world'))\n",
    "\n",
    "    print(f\"started at {time.strftime('%X')}\")\n",
    "\n",
    "    # Wait until both tasks are completed (should take\n",
    "    # around 2 seconds.)\n",
    "    await asyncio.gather(task1,task2)\n",
    "\n",
    "    print(f\"finished at {time.strftime('%X')}\")\n",
    "\n",
    "await main()\n",
    " "
   ]
  },
  {
   "cell_type": "code",
   "execution_count": 76,
   "metadata": {},
   "outputs": [
    {
     "name": "stdout",
     "output_type": "stream",
     "text": [
      "TEST\n"
     ]
    }
   ],
   "source": [
    "s1= \"test\"\n",
    "s2= lambda func:func.upper()\n",
    "print(s2(s1))"
   ]
  },
  {
   "cell_type": "code",
   "execution_count": 80,
   "metadata": {},
   "outputs": [
    {
     "name": "stdout",
     "output_type": "stream",
     "text": [
      "abc\n",
      "er\n"
     ]
    }
   ],
   "source": [
    "def test():\n",
    "    #local variable\n",
    "    x=\"abc\"\n",
    "    print(x)\n",
    "\n",
    "test()\n",
    "x=\"er\"\n",
    "#global vatriable\n",
    "print(x)"
   ]
  },
  {
   "cell_type": "code",
   "execution_count": 87,
   "metadata": {},
   "outputs": [
    {
     "name": "stdout",
     "output_type": "stream",
     "text": [
      "global :  1\n",
      "Inside f() :  1\n",
      "global :  1\n",
      "Inside g() :  2\n",
      "global :  1\n",
      "Inside h() :  3\n",
      "global :  3\n"
     ]
    }
   ],
   "source": [
    "a = 1\n",
    "\n",
    "# Uses global because there is no local 'a'\n",
    "def f():\n",
    "    print('Inside f() : ', a)\n",
    "\n",
    "# Variable 'a' is redefined as a local\n",
    "def g():\n",
    "    a = 2\n",
    "    print('Inside g() : ', a)\n",
    "\n",
    "# Uses global keyword to modify global 'a'\n",
    "def h():\n",
    "    global a\n",
    "    a = 3\n",
    "    print('Inside h() : ', a)\n",
    "\n",
    "print('global : ', a)\n",
    "f()\n",
    "print('global : ', a)\n",
    "g()\n",
    "print('global : ', a)\n",
    "h() \n",
    "print('global : ', a)\n"
   ]
  },
  {
   "cell_type": "code",
   "execution_count": 99,
   "metadata": {},
   "outputs": [
    {
     "name": "stdout",
     "output_type": "stream",
     "text": [
      "geeks\n",
      "geeks\n"
     ]
    }
   ],
   "source": [
    "def test():\n",
    "    #local variable\n",
    "    global x\n",
    "    x=\"geeks\"\n",
    "    print(x)\n",
    "\n",
    "#global variable \n",
    "x=\"test\"\n",
    "test()\n",
    "print(x)"
   ]
  },
  {
   "cell_type": "code",
   "execution_count": 101,
   "metadata": {},
   "outputs": [
    {
     "data": {
      "text/plain": [
       "120"
      ]
     },
     "execution_count": 101,
     "metadata": {},
     "output_type": "execute_result"
    }
   ],
   "source": [
    "#recursion\n",
    "def  factorial(n):\n",
    "    if n==0:\n",
    "        return 1\n",
    "    else:\n",
    "        return n*factorial(n-1)\n",
    "\n",
    "factorial(5)\n"
   ]
  },
  {
   "cell_type": "code",
   "execution_count": 24,
   "metadata": {},
   "outputs": [
    {
     "name": "stdout",
     "output_type": "stream",
     "text": [
      "(1, 2, 3, 4, 5, 6)\n"
     ]
    }
   ],
   "source": [
    "def fun(*args):\n",
    "    print(args)\n",
    "\n",
    "fun(1,2,3,4,5,6)"
   ]
  },
  {
   "cell_type": "code",
   "execution_count": 107,
   "metadata": {},
   "outputs": [
    {
     "name": "stdout",
     "output_type": "stream",
     "text": [
      "1 2 3\n"
     ]
    }
   ],
   "source": [
    "def fun(a=None,b=None,c=None):\n",
    "    print(a,b,c)\n",
    "\n",
    "fun(a=1,b=2,c=3)\n",
    "\n"
   ]
  },
  {
   "cell_type": "code",
   "execution_count": 108,
   "metadata": {},
   "outputs": [
    {
     "name": "stdout",
     "output_type": "stream",
     "text": [
      "{'a': 1, 'b': 2, 'c': 3}\n"
     ]
    }
   ],
   "source": [
    "def fun (**kwargs):\n",
    "    print(kwargs)\n",
    "\n",
    "fun (a=1,b=2,c=3)\n"
   ]
  },
  {
   "cell_type": "code",
   "execution_count": 124,
   "metadata": {},
   "outputs": [
    {
     "name": "stdout",
     "output_type": "stream",
     "text": [
      "dg\n",
      "ABC\n"
     ]
    }
   ],
   "source": [
    "#use of  self\n",
    "\n",
    "class Car:\n",
    "    def __init__(self,model,color):\n",
    "        self.model=model\n",
    "        self.color=color\n",
    "        \n",
    "    \n",
    "    def display(self):\n",
    "        self.model=\"dg\"\n",
    "    \n",
    "car1=Car(\"ABC\",\"red\")\n",
    "car2=Car(\"ABC\",\"black\")\n",
    "car1.display()\n",
    "print(car1.model)\n",
    "print(car2.model)\n",
    "\n",
    "        \n",
    "    "
   ]
  },
  {
   "cell_type": "code",
   "execution_count": 25,
   "metadata": {},
   "outputs": [
    {
     "name": "stdout",
     "output_type": "stream",
     "text": [
      "hello, Aryan\n"
     ]
    }
   ],
   "source": [
    "#first class funtion\n",
    "#passing fun to a variable\n",
    "def msg(name):\n",
    "    return f\"hello, {name}\"\n",
    "\n",
    "f=msg\n",
    "print(f(\"Aryan\"))"
   ]
  },
  {
   "cell_type": "code",
   "execution_count": 131,
   "metadata": {},
   "outputs": [
    {
     "name": "stdout",
     "output_type": "stream",
     "text": [
      "hello,Aryan\n"
     ]
    }
   ],
   "source": [
    "#passing funtion as an arguments\n",
    "def msg(name):\n",
    "    return f\"hello,{name}\"\n",
    "\n",
    "def fun1(fun2,name):\n",
    "    return fun2(name)\n",
    "\n",
    "print(fun1(msg,\"Aryan\"))"
   ]
  },
  {
   "cell_type": "code",
   "execution_count": 134,
   "metadata": {},
   "outputs": [
    {
     "name": "stdout",
     "output_type": "stream",
     "text": [
      "hello,Alish\n"
     ]
    }
   ],
   "source": [
    "#returning funtion from other funtion\n",
    "def fun1(msg):\n",
    "    def  fun2():\n",
    "        return f\"hello,{msg}\"\n",
    "    return fun2\n",
    "func=fun1(\"Alish\")\n",
    "print(func())"
   ]
  },
  {
   "cell_type": "code",
   "execution_count": 144,
   "metadata": {},
   "outputs": [
    {
     "name": "stdout",
     "output_type": "stream",
     "text": [
      "<filter object at 0x1083a7eb0>\n"
     ]
    }
   ],
   "source": [
    "#filter\n",
    "n=[1,2,3,4,5]\n",
    "even=filter(lambda x :x%2==0,n)\n",
    "print(list(even))"
   ]
  },
  {
   "cell_type": "code",
   "execution_count": 148,
   "metadata": {},
   "outputs": [
    {
     "name": "stdout",
     "output_type": "stream",
     "text": [
      "[2, 4, 6, 8, 10]\n"
     ]
    }
   ],
   "source": [
    "#map()\n",
    "n=[1,2,3,4,5]\n",
    "b=map(lambda x :x*2,n)\n",
    "print(list(b))"
   ]
  },
  {
   "cell_type": "code",
   "execution_count": 3,
   "metadata": {},
   "outputs": [
    {
     "name": "stdout",
     "output_type": "stream",
     "text": [
      "24\n"
     ]
    }
   ],
   "source": [
    "from functools import reduce\n",
    "a = [1, 2, 3, 4]\n",
    "b = reduce(lambda x, y: x * y, a)\n",
    "print(b)  "
   ]
  },
  {
   "cell_type": "code",
   "execution_count": 11,
   "metadata": {},
   "outputs": [
    {
     "name": "stdout",
     "output_type": "stream",
     "text": [
      "hello\n",
      "hello\n"
     ]
    }
   ],
   "source": [
    "def fun1():#outer funtion\n",
    "    msg=\"qwerty\"\n",
    "    def fun2():#inner funtion\n",
    "        nonlocal msg\n",
    "        msg=\"hello\"\n",
    "        print(msg)\n",
    "    fun2()\n",
    "    print(msg)\n",
    "fun1()\n"
   ]
  },
  {
   "cell_type": "code",
   "execution_count": 13,
   "metadata": {},
   "outputs": [
    {
     "name": "stdout",
     "output_type": "stream",
     "text": [
      "Hello, Closure!\n"
     ]
    }
   ],
   "source": [
    "def fun1(a): # outer function\n",
    "    \n",
    "    def fun2(): # inner function\n",
    "        print(a)\n",
    "    return fun2  # returning function without parentheses\n",
    "\n",
    "closure_func = fun1(\"Hello, Closure!\")\n",
    "closure_func()  # inner function remembers 'a'"
   ]
  },
  {
   "cell_type": "code",
   "execution_count": 15,
   "metadata": {},
   "outputs": [
    {
     "name": "stdout",
     "output_type": "stream",
     "text": [
      "Before calling the function.\n",
      "Hello, World!\n",
      "After calling the function.\n"
     ]
    }
   ],
   "source": [
    "# A simple decorator function\n",
    "##what is happeing here is that the decorator function takes a function as an argument and returns a new function that adds some functionality before and after calling the original function.\n",
    "# Decorator function\n",
    "def decorator(func):\n",
    "  \n",
    "    def wrapper():\n",
    "        print(\"Before calling the function.\")\n",
    "        func()\n",
    "        print(\"After calling the function.\")\n",
    "    return wrapper\n",
    "\n",
    "# Applying the decorator to a function\n",
    "@decorator\n",
    "\n",
    "def greet():\n",
    "    print(\"Hello, World!\")\n",
    "\n",
    "greet()\n"
   ]
  },
  {
   "cell_type": "code",
   "execution_count": 19,
   "metadata": {},
   "outputs": [
    {
     "name": "stdout",
     "output_type": "stream",
     "text": [
      "before the funtion\n",
      "6\n",
      "after function\n"
     ]
    }
   ],
   "source": [
    "@decorator\n",
    "def add(a,b):\n",
    "    print(a+b)\n",
    "\n",
    "def decorator(func):\n",
    "    def wrapper(a,b):\n",
    "        print(\"before the funtion\")\n",
    "        func(a,b)\n",
    "        print(\"after function\")\n",
    "    return wrapper\n",
    "\n",
    "add(2,4)"
   ]
  },
  {
   "cell_type": "code",
   "execution_count": 26,
   "metadata": {},
   "outputs": [
    {
     "name": "stdout",
     "output_type": "stream",
     "text": [
      "Something is happening before the function is called.\n",
      "Hello\n",
      "Something is happening after the function is called.\n"
     ]
    }
   ],
   "source": [
    "#custom decorator\n",
    "def my_decorator(func):\n",
    "    def wrapper():\n",
    "        print(\"Something is happening before the function is called.\")\n",
    "        func()\n",
    "        print(\"Something is happening after the function is called.\")\n",
    "    return wrapper\n",
    "\n",
    "@my_decorator\n",
    "def say_hello():\n",
    "    print(\"Hello\")\n",
    "\n",
    "say_hello()"
   ]
  },
  {
   "cell_type": "code",
   "execution_count": 30,
   "metadata": {},
   "outputs": [
    {
     "name": "stdout",
     "output_type": "stream",
     "text": [
      "Calling function 'add' with arguments (2, 3) and keyword arguments {}\n",
      "Function 'add' returned 5\n"
     ]
    },
    {
     "data": {
      "text/plain": [
       "5"
      ]
     },
     "execution_count": 30,
     "metadata": {},
     "output_type": "execute_result"
    }
   ],
   "source": [
    "##decorators for logging\n",
    "def log(func):\n",
    "    def wrapper(*args, **kwargs):\n",
    "        print(f\"Calling function '{func.__name__}' with arguments {args} and keyword arguments {kwargs}\")\n",
    "        result = func(*args, **kwargs)\n",
    "        print(f\"Function '{func.__name__}' returned {result}\")\n",
    "        return result\n",
    "    return wrapper\n",
    "@log\n",
    "def add(a, b):\n",
    "    return a + b\n",
    "\n",
    "add(2, 3)"
   ]
  },
  {
   "cell_type": "code",
   "execution_count": 31,
   "metadata": {},
   "outputs": [
    {
     "name": "stdout",
     "output_type": "stream",
     "text": [
      "Before the function is called.\n",
      "After the function is called.\n",
      "8\n",
      "Hello, Alice!\n",
      "Hello, Alice!\n",
      "Hello, Alice!\n"
     ]
    }
   ],
   "source": [
    "##diffrent decorator\n",
    "def decorator(func):\n",
    "    def wrapper(*args, **kwargs):\n",
    "        print(\"Before the function is called.\")\n",
    "        result = func(*args, **kwargs)\n",
    "        print(\"After the function is called.\")\n",
    "        return result\n",
    "    return wrapper\n",
    "@decorator\n",
    "def my_function(x, y):\n",
    "    return x + y\n",
    "result = my_function(5, 3)\n",
    "print(result)  # Output: 8\n",
    "#decorator with arguments\n",
    "def repeat(num_times):\n",
    "    def decorator_repeat(func):\n",
    "        def wrapper(*args, **kwargs):\n",
    "            for _ in range(num_times):\n",
    "                result = func(*args, **kwargs)\n",
    "            return result\n",
    "        return wrapper\n",
    "    return decorator_repeat\n",
    "@repeat(num_times=3)\n",
    "def greet(name):\n",
    "    print(f\"Hello, {name}!\")\n",
    "greet(\"Alice\")  # Output: Hello, Alice! (printed 3 times)\n"
   ]
  },
  {
   "cell_type": "code",
   "execution_count": 34,
   "metadata": {},
   "outputs": [
    {
     "name": "stdout",
     "output_type": "stream",
     "text": [
      "Hello geeks\n",
      "hello GeeksforGeeks\n"
     ]
    }
   ],
   "source": [
    "s = \"hello geeks\"\n",
    "\n",
    "# Updating by creating a new string\n",
    "s1 = \"H\" + s[1:]\n",
    "\n",
    "# replacnig \"geeks\" with \"GeeksforGeeks\"\n",
    "s2 = s.replace(\"geeks\", \"GeeksforGeeks\")\n",
    "print(s1)\n",
    "print(s2)\n"
   ]
  },
  {
   "cell_type": "code",
   "execution_count": 36,
   "metadata": {},
   "outputs": [
    {
     "name": "stdout",
     "output_type": "stream",
     "text": [
      "Original List: [1, 2, 3, ['changed', 5]]\n",
      "Shallow Copied List: [1, 2, 3, ['changed', 5]]\n",
      "Deep Copied List: [1, 2, 3, [4, 5]]\n"
     ]
    }
   ],
   "source": [
    "##copy\n",
    "import copy\n",
    "# Original list\n",
    "original_list = [1, 2, 3, [4, 5]]\n",
    "# Shallow copy\n",
    "shallow_copied_list = copy.copy(original_list)\n",
    "# Deep copy\n",
    "deep_copied_list = copy.deepcopy(original_list)\n",
    "# Modifying the original list\n",
    "original_list[3][0] = 'changed'\n",
    "# Printing the lists\n",
    "print(\"Original List:\", original_list)  # Original list is modified\n",
    "print(\"Shallow Copied List:\", shallow_copied_list)  # Shallow copy is affected\n",
    "print(\"Deep Copied List:\", deep_copied_list)  # Deep copy remains unchanged\n"
   ]
  },
  {
   "cell_type": "code",
   "execution_count": 37,
   "metadata": {},
   "outputs": [
    {
     "name": "stdout",
     "output_type": "stream",
     "text": [
      "1\n",
      "2\n",
      "3\n",
      "4\n",
      "5\n"
     ]
    }
   ],
   "source": [
    "def fun(max):\n",
    "    cnt = 1\n",
    "    while cnt <= max:\n",
    "        yield cnt\n",
    "        cnt += 1\n",
    "\n",
    "ctr = fun(5)\n",
    "for n in ctr:\n",
    "    print(n)\n"
   ]
  },
  {
   "cell_type": "code",
   "execution_count": 39,
   "metadata": {},
   "outputs": [
    {
     "data": {
      "text/plain": [
       "4"
      ]
     },
     "execution_count": 39,
     "metadata": {},
     "output_type": "execute_result"
    }
   ],
   "source": [
    "def missig_number(arr):\n",
    "    n=len(arr)+1\n",
    "    sum_of_arr=sum(arr)\n",
    "    actual_sum=n*(n+1)//2\n",
    "    return actual_sum-sum_of_arr\n",
    "\n",
    "missig_number([1, 2, 3, 5])"
   ]
  },
  {
   "cell_type": "code",
   "execution_count": 41,
   "metadata": {},
   "outputs": [
    {
     "data": {
      "text/plain": [
       "4"
      ]
     },
     "execution_count": 41,
     "metadata": {},
     "output_type": "execute_result"
    }
   ],
   "source": [
    "def getSecondLargest( arr):\n",
    "    n=len(arr)\n",
    "    first=float('-inf')\n",
    "    second=float('-inf')\n",
    "    for i in range(n):\n",
    "        if arr[i]>first:\n",
    "            second=first\n",
    "            first=arr[i]\n",
    "        elif arr[i]<first and arr[i]>second:\n",
    "            second=arr[i]\n",
    "    return second\n",
    "\n",
    "getSecondLargest([1, 2, 3, 5, 4])\n"
   ]
  },
  {
   "cell_type": "code",
   "execution_count": 46,
   "metadata": {},
   "outputs": [
    {
     "name": "stdout",
     "output_type": "stream",
     "text": [
      "[17, 5, 2]\n"
     ]
    }
   ],
   "source": [
    "def leaders():\n",
    "    arr=[16, 17, 4, 3, 5, 2]\n",
    "    n=len(arr)\n",
    "    leaders_list=[]\n",
    "    max_from_right=arr[-1]\n",
    "    leaders_list.append(max_from_right)\n",
    "    for  i in range(n-2,-1,-1):\n",
    "        if arr[i]>max_from_right:\n",
    "            max_from_right=arr[i]\n",
    "            leaders_list.append(max_from_right)\n",
    "    return leaders_list[::-1]\n",
    "\n",
    "print(leaders())     \n",
    "       \n",
    "             "
   ]
  },
  {
   "cell_type": "code",
   "execution_count": 48,
   "metadata": {},
   "outputs": [
    {
     "name": "stdout",
     "output_type": "stream",
     "text": [
      "[2, 3]\n"
     ]
    }
   ],
   "source": [
    "def arr_duplicate():\n",
    "    arr=(2, 3, 1, 2, 3)\n",
    "    n=len(arr)\n",
    "    duplicates=[]\n",
    "    freq_map={}\n",
    "    for i in arr:\n",
    "        if i in freq_map:\n",
    "            freq_map[i]+=1\n",
    "        else:\n",
    "            freq_map[i]=1\n",
    "    for key, value in freq_map.items():\n",
    "        if value>1:\n",
    "            duplicates.append(key)\n",
    "    return duplicates\n",
    "\n",
    "print(arr_duplicate())\n",
    "\n",
    "        \n",
    "    \n",
    "    "
   ]
  },
  {
   "cell_type": "code",
   "execution_count": 50,
   "metadata": {},
   "outputs": [
    {
     "name": "stdout",
     "output_type": "stream",
     "text": [
      "[2, 3]\n"
     ]
    }
   ],
   "source": [
    "#missing and repeating number\n",
    "def missing_repeating_number():\n",
    "    arr=[1, 3, 3] \n",
    "    n=len(arr)\n",
    "    repeating=-1\n",
    "    actual_sum=0\n",
    "    seen=set()\n",
    "    for i in arr:\n",
    "        if i in seen:\n",
    "            seen.add(i)\n",
    "            repeating=i\n",
    "        else:\n",
    "            seen.add(i)\n",
    "            actual_sum+=i\n",
    "    expected_sum=n*(n+1)//2\n",
    "    missinng_sum=expected_sum-actual_sum\n",
    "    return [missinng_sum, repeating]\n",
    "\n",
    "print(missing_repeating_number())"
   ]
  },
  {
   "cell_type": "code",
   "execution_count": 1,
   "metadata": {},
   "outputs": [
    {
     "name": "stdout",
     "output_type": "stream",
     "text": [
      "[1, 2]\n"
     ]
    }
   ],
   "source": [
    "def findTwoElement( ): \n",
    "        # code here\n",
    "    arr=[2 ,2]\n",
    "    n=len(arr)\n",
    "    repeating=-1\n",
    "    actual_sum=0\n",
    "    seen=set()\n",
    "    for i in arr:\n",
    "        if i in seen:\n",
    "            seen.add(i)\n",
    "            repeating=i\n",
    "        else:\n",
    "            seen.add(i)\n",
    "            actual_sum+=i\n",
    "    expected_sum=n*(n+1)//2\n",
    "    missinng_sum=expected_sum-actual_sum\n",
    "    return [missinng_sum, repeating]\n",
    "\n",
    "print(findTwoElement())\n",
    "\n",
    "        \n",
    "       \n",
    "       "
   ]
  },
  {
   "cell_type": "code",
   "execution_count": 3,
   "metadata": {},
   "outputs": [
    {
     "name": "stdout",
     "output_type": "stream",
     "text": [
      "3\n"
     ]
    }
   ],
   "source": [
    "def binary_search():\n",
    "    arr=[1, 2, 3, 4, 5]\n",
    "    k = 4\n",
    "    n=len(arr)\n",
    "    for i in range(n):\n",
    "        if arr[i]==k:\n",
    "            return i\n",
    "    return -1\n",
    "\n",
    "print(binary_search())\n",
    "    "
   ]
  },
  {
   "cell_type": "code",
   "execution_count": 9,
   "metadata": {},
   "outputs": [
    {
     "name": "stdout",
     "output_type": "stream",
     "text": [
      "90\n"
     ]
    }
   ],
   "source": [
    "def largest_element():\n",
    "    arr= [1, 8, 7, 56, 90,44]\n",
    "    arr.sort()\n",
    "    for _ in arr:\n",
    "        return arr[-1]\n",
    "\n",
    "print(largest_element())"
   ]
  },
  {
   "cell_type": "code",
   "execution_count": 11,
   "metadata": {},
   "outputs": [
    {
     "name": "stdout",
     "output_type": "stream",
     "text": [
      "True\n"
     ]
    }
   ],
   "source": [
    "#array subset\n",
    "def subset_array():\n",
    "    arr1=[11, 7, 1, 13, 21, 3, 7, 3]\n",
    "    arr2 = [11, 3, 7, 1, 7]\n",
    "    freq={}\n",
    "    for i in arr1:\n",
    "        freq[i]=freq.get(i,0)+1\n",
    "    for i in arr2:\n",
    "        if freq.get(i,0)==0:\n",
    "            return False\n",
    "        freq[i]-=1\n",
    "    return True\n",
    "print(subset_array())"
   ]
  },
  {
   "cell_type": "code",
   "execution_count": 13,
   "metadata": {},
   "outputs": [
    {
     "name": "stdout",
     "output_type": "stream",
     "text": [
      "skeeG\n"
     ]
    }
   ],
   "source": [
    "#Reverse a String\n",
    "def reverse_string():\n",
    "    s=\"Geeks\"\n",
    "    return s[::-1]\n",
    "\n",
    "print(reverse_string())\n"
   ]
  },
  {
   "cell_type": "code",
   "execution_count": 19,
   "metadata": {},
   "outputs": [
    {
     "name": "stdout",
     "output_type": "stream",
     "text": [
      "True\n"
     ]
    }
   ],
   "source": [
    "#anagram\n",
    "def anagram():\n",
    "    str1=\"listen\"\n",
    "    str2=\"netsil\"\n",
    "    if len(str1)!=len(str2):\n",
    "        return False\n",
    "    return sorted(str1)==sorted(str2)\n",
    "\n",
    "print(anagram())\n",
    "        "
   ]
  },
  {
   "cell_type": "code",
   "execution_count": 26,
   "metadata": {},
   "outputs": [
    {
     "name": "stdout",
     "output_type": "stream",
     "text": [
      "True\n"
     ]
    }
   ],
   "source": [
    "#to check isPalindrome\n",
    "def isPalindrome():\n",
    "    s=\"helleh\"\n",
    "    return s==s[::-1]\n",
    "print(isPalindrome())"
   ]
  },
  {
   "cell_type": "code",
   "execution_count": 29,
   "metadata": {},
   "outputs": [
    {
     "name": "stdout",
     "output_type": "stream",
     "text": [
      "False\n"
     ]
    }
   ],
   "source": [
    "#two sum pair with given sum\n",
    "def two_sum():\n",
    "    arr=[1, 2, 3, 4, 5]\n",
    "    target=11\n",
    "    seen=set()    \n",
    "    for i in arr:\n",
    "        num=target-i\n",
    "        if num in seen:\n",
    "            return True\n",
    "        seen.add(i)\n",
    "    return False\n",
    "    \n",
    "print(two_sum())"
   ]
  },
  {
   "cell_type": "code",
   "execution_count": 46,
   "metadata": {},
   "outputs": [
    {
     "name": "stdout",
     "output_type": "stream",
     "text": [
      "Heapified list: [5, 12, 20, 15, 30, 40]\n"
     ]
    }
   ],
   "source": [
    "import heapq\n",
    "li = [5,12, 20, 15, 30, 40]\n",
    "\n",
    "# Convert the list into a heap\n",
    "heapq.heapify(li)\n",
    "# peek_list=heapq.peek(li)  # Get the smallest element without removing it\n",
    "# pop_list=heapq.heappop(li)\n",
    "# print(\"Smallest element:\", pop_list)\n",
    "# pop_list1=heapq.heappop(li)\n",
    "# print(\"Smallest element:\", pop_list1)\n",
    "# push_list1=heapq.  heappush(li, 23)\n",
    "\n",
    "\n",
    "print(\"Heapified list:\", li)"
   ]
  },
  {
   "cell_type": "code",
   "execution_count": null,
   "metadata": {},
   "outputs": [],
   "source": [
    "print(len(\"Hello\"))\n",
    "print(len([1,3,4]))\n",
    "\n",
    "print(max(1,3,4,5))\n",
    "print(min(1,2,3,4))"
   ]
  },
  {
   "cell_type": "code",
   "execution_count": 52,
   "metadata": {},
   "outputs": [
    {
     "name": "stdout",
     "output_type": "stream",
     "text": [
      "4\n"
     ]
    }
   ],
   "source": [
    "def add(a,b):\n",
    "    return a+b\n",
    "\n",
    "print(add(1,3))"
   ]
  },
  {
   "cell_type": "code",
   "execution_count": 54,
   "metadata": {},
   "outputs": [
    {
     "name": "stdout",
     "output_type": "stream",
     "text": [
      "8\n",
      "[1, 2, 3, 4, 5, 5]\n"
     ]
    }
   ],
   "source": [
    "#method overloading\n",
    "print(5+3)\n",
    "print([1,2,3] +[4,5,5])"
   ]
  },
  {
   "cell_type": "code",
   "execution_count": 66,
   "metadata": {},
   "outputs": [
    {
     "name": "stdout",
     "output_type": "stream",
     "text": [
      "Area: 50\n",
      "Area: 153.86\n"
     ]
    }
   ],
   "source": [
    "class Shape:\n",
    "    def __init__(self):\n",
    "        pass\n",
    "    \n",
    "class rectangle(Shape):\n",
    "    def __init__(self,length,width):\n",
    "        self.length=length\n",
    "        self.width=width\n",
    "        \n",
    "    def area(self) :\n",
    "        return self.length*self.width\n",
    "    \n",
    "class circle(Shape):\n",
    "    def __init__(self,radius) :\n",
    "        self.radius=radius\n",
    "        \n",
    "    def area(self):\n",
    "        return 3.14*self.radius**2\n",
    "\n",
    "shapes=[rectangle(5,10),circle(7)]\n",
    "for shape in shapes:\n",
    "   print(f\"Area: {shape.area()}\")"
   ]
  },
  {
   "cell_type": "code",
   "execution_count": 72,
   "metadata": {},
   "outputs": [
    {
     "name": "stdout",
     "output_type": "stream",
     "text": [
      "Buddy barks!\n",
      "kitty meows!\n"
     ]
    }
   ],
   "source": [
    "# Parent class\n",
    "class Animal:\n",
    "    def __init__(self, name):\n",
    "        self.name = name  # Initialize the name attribute\n",
    "\n",
    "    def speak(self):\n",
    "        pass  # Placeholder method to be overridden by child classes\n",
    "\n",
    "# Child class inheriting from Animal\n",
    "class Dog(Animal):\n",
    "    def speak(self):\n",
    "        return f\"{self.name} barks!\"  # Override the speak method\n",
    "\n",
    "class Cat(Animal):\n",
    "    \n",
    "    def speak(self):\n",
    "        return f\"{self.name} meows!\"\n",
    "# Creating an instance of Dog\n",
    "dog = Dog(\"Buddy\")\n",
    "cat=Cat(\"kitty\")\n",
    "print(dog.speak())  \n",
    "print(cat.speak())\n"
   ]
  },
  {
   "cell_type": "code",
   "execution_count": 76,
   "metadata": {},
   "outputs": [
    {
     "data": {
      "text/plain": [
       "'bark'"
      ]
     },
     "execution_count": 76,
     "metadata": {},
     "output_type": "execute_result"
    }
   ],
   "source": [
    "from abc import ABC, abstractmethod\n",
    "class Animal:\n",
    "    @abstractmethod\n",
    "    def sound(self):\n",
    "        pass\n",
    "\n",
    "class Dog(Animal):\n",
    "    def sound(self):\n",
    "        return \"bark\"\n",
    "\n",
    "animal=Dog()\n",
    "animal.sound()\n"
   ]
  },
  {
   "cell_type": "code",
   "execution_count": 102,
   "metadata": {},
   "outputs": [],
   "source": [
    "from pydantic import BaseModel\n",
    "\n",
    "# Define a Pydantic model\n",
    "class User(BaseModel):\n",
    "    id: int\n",
    "    name: str\n",
    "    signup_ts: str \n",
    "    friends: list[int] = []\n",
    "\n",
    "# Create a User object\n",
    "user = User(\n",
    "    id=1,\n",
    "    name=\"John Doe\",\n",
    "    signup_ts=\"2024-04-28T12:00\",\n",
    "    friends=[2, 3, 4]\n",
    ")\n",
    "\n",
    "# print(user)\n",
    "# print(user.id)\n",
    "# print(user.dict())  # Convert to dictionary\n"
   ]
  },
  {
   "cell_type": "code",
   "execution_count": 105,
   "metadata": {},
   "outputs": [],
   "source": [
    "user_list={'id': \"1\", 'name': 100, 'signup_ts': '2024-04-28T12:00', 'friends': (2, 3, 4)}\n"
   ]
  },
  {
   "cell_type": "code",
   "execution_count": 106,
   "metadata": {},
   "outputs": [
    {
     "ename": "ValidationError",
     "evalue": "1 validation error for User\nname\n  Input should be a valid string [type=string_type, input_value=100, input_type=int]\n    For further information visit https://errors.pydantic.dev/2.11/v/string_type",
     "output_type": "error",
     "traceback": [
      "\u001b[0;31m---------------------------------------------------------------------------\u001b[0m",
      "\u001b[0;31mValidationError\u001b[0m                           Traceback (most recent call last)",
      "\u001b[1;32m/Users/aryanpatel/Desktop/Python/fastAPI/FastAPI/test.ipynb Cell 63\u001b[0m line \u001b[0;36m1\n\u001b[0;32m----> <a href='vscode-notebook-cell:/Users/aryanpatel/Desktop/Python/fastAPI/FastAPI/test.ipynb#Y122sZmlsZQ%3D%3D?line=0'>1</a>\u001b[0m User(\u001b[39m*\u001b[39;49m\u001b[39m*\u001b[39;49muser_list)\n",
      "File \u001b[0;32m~/.pyenv/versions/3.9.16/envs/python-3.9.16-virtual/lib/python3.9/site-packages/pydantic/main.py:253\u001b[0m, in \u001b[0;36mBaseModel.__init__\u001b[0;34m(self, **data)\u001b[0m\n\u001b[1;32m    251\u001b[0m \u001b[39m# `__tracebackhide__` tells pytest and some other tools to omit this function from tracebacks\u001b[39;00m\n\u001b[1;32m    252\u001b[0m __tracebackhide__ \u001b[39m=\u001b[39m \u001b[39mTrue\u001b[39;00m\n\u001b[0;32m--> 253\u001b[0m validated_self \u001b[39m=\u001b[39m \u001b[39mself\u001b[39;49m\u001b[39m.\u001b[39;49m__pydantic_validator__\u001b[39m.\u001b[39;49mvalidate_python(data, self_instance\u001b[39m=\u001b[39;49m\u001b[39mself\u001b[39;49m)\n\u001b[1;32m    254\u001b[0m \u001b[39mif\u001b[39;00m \u001b[39mself\u001b[39m \u001b[39mis\u001b[39;00m \u001b[39mnot\u001b[39;00m validated_self:\n\u001b[1;32m    255\u001b[0m     warnings\u001b[39m.\u001b[39mwarn(\n\u001b[1;32m    256\u001b[0m         \u001b[39m'\u001b[39m\u001b[39mA custom validator is returning a value other than `self`.\u001b[39m\u001b[39m\\n\u001b[39;00m\u001b[39m'\u001b[39m\n\u001b[1;32m    257\u001b[0m         \u001b[39m\"\u001b[39m\u001b[39mReturning anything other than `self` from a top level model validator isn\u001b[39m\u001b[39m'\u001b[39m\u001b[39mt supported when validating via `__init__`.\u001b[39m\u001b[39m\\n\u001b[39;00m\u001b[39m\"\u001b[39m\n\u001b[1;32m    258\u001b[0m         \u001b[39m'\u001b[39m\u001b[39mSee the `model_validator` docs (https://docs.pydantic.dev/latest/concepts/validators/#model-validators) for more details.\u001b[39m\u001b[39m'\u001b[39m,\n\u001b[1;32m    259\u001b[0m         stacklevel\u001b[39m=\u001b[39m\u001b[39m2\u001b[39m,\n\u001b[1;32m    260\u001b[0m     )\n",
      "\u001b[0;31mValidationError\u001b[0m: 1 validation error for User\nname\n  Input should be a valid string [type=string_type, input_value=100, input_type=int]\n    For further information visit https://errors.pydantic.dev/2.11/v/string_type"
     ]
    }
   ],
   "source": [
    "User(**user_list)"
   ]
  }
 ],
 "metadata": {
  "kernelspec": {
   "display_name": "python-3.9.16-virtual",
   "language": "python",
   "name": "python3"
  },
  "language_info": {
   "codemirror_mode": {
    "name": "ipython",
    "version": 3
   },
   "file_extension": ".py",
   "mimetype": "text/x-python",
   "name": "python",
   "nbconvert_exporter": "python",
   "pygments_lexer": "ipython3",
   "version": "3.9.16"
  },
  "orig_nbformat": 4
 },
 "nbformat": 4,
 "nbformat_minor": 2
}
